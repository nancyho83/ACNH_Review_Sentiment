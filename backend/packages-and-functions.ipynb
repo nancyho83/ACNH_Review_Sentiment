{
 "cells": [
  {
   "cell_type": "markdown",
   "metadata": {},
   "source": [
    "Packages"
   ]
  },
  {
   "cell_type": "code",
   "execution_count": null,
   "metadata": {},
   "outputs": [],
   "source": [
    "import pandas as pd\n",
    "import numpy as np\n",
    "import matplotlib.pyplot as plt\n",
    "import seaborn as sb\n",
    "\n",
    "from nltk.corpus import stopwords\n",
    "from nltk import word_tokenize, regexp_tokenize, FreqDist\n",
    "from nltk.stem import WordNetLemmatizer\n",
    "from wordcloud import WordCloud\n",
    "import string\n",
    "import re\n",
    "\n",
    "from sklearn.model_selection import train_test_split, cross_val_score, GridSearchCV\n",
    "from sklearn.linear_model import LogisticRegression\n",
    "from sklearn.feature_extraction.text import TfidfVectorizer\n",
    "from sklearn.metrics import plot_confusion_matrix, recall_score, f1_score\n",
    "from sklearn.naive_bayes import MultinomialNB\n",
    "from sklearn.tree import DecisionTreeClassifier\n",
    "from sklearn.ensemble import RandomForestClassifier\n",
    "\n",
    "from imblearn.over_sampling import SMOTE\n",
    "from imblearn.pipeline import make_pipeline\n",
    "\n",
    "import warnings\n",
    "warnings.filterwarnings('ignore')"
   ]
  },
  {
   "cell_type": "markdown",
   "metadata": {},
   "source": [
    "Text classification function for model creation"
   ]
  },
  {
   "cell_type": "code",
   "execution_count": null,
   "metadata": {},
   "outputs": [],
   "source": [
    "def text_classification(model):\n",
    "    \"\"\"\n",
    "    Takes in a scikit-learn classifier and runs a model\n",
    "    based on the training data provided. Returns cross-validated\n",
    "    scores and an average score rating the performance of the model.\n",
    "    Also returns a confusion matrix as a visual representation\n",
    "    of the model's accuracy.\n",
    "    \"\"\"\n",
    "    tfidf_vectorizer = TfidfVectorizer()\n",
    "    smote = SMOTE(sampling_strategy='not majority')\n",
    "    \n",
    "    pipeline = make_pipeline(tfidf_vectorizer, smote, model)\n",
    "    \n",
    "    scores = cross_val_score(pipeline, X_train, y_train)\n",
    "    print('Cross-validated scores:', scores.round(3))\n",
    "    print('Average CV score:', np.mean(scores).round(3))\n",
    "    \n",
    "    pipeline.fit(X_train, y_train)\n",
    "    y_preds = pipeline.predict(X_test)\n",
    "    print('Recall score:', recall_score(y_test, y_preds, average='micro').round(3))\n",
    "    print('F1 score:', f1_score(y_test, y_preds, average='micro').round(3))\n",
    "    \n",
    "    plot_confusion_matrix(pipeline, X_test, y_test)\n",
    "    \n",
    "    return pipeline"
   ]
  }
 ],
 "metadata": {
  "kernelspec": {
   "display_name": "Python 3",
   "language": "python",
   "name": "python3"
  },
  "language_info": {
   "codemirror_mode": {
    "name": "ipython",
    "version": 3
   },
   "file_extension": ".py",
   "mimetype": "text/x-python",
   "name": "python",
   "nbconvert_exporter": "python",
   "pygments_lexer": "ipython3",
   "version": "3.8.5"
  }
 },
 "nbformat": 4,
 "nbformat_minor": 4
}
