{
 "cells": [
  {
   "cell_type": "markdown",
   "metadata": {},
   "source": [
    "## Introduction / Business Problem (for now)"
   ]
  },
  {
   "cell_type": "markdown",
   "metadata": {},
   "source": [
    "Animal Crossing: New Horizons had a very prominent presence during the COVID-19 pandemic, and is one of the best-selling Switch games to this day. It had its period of glory, but is now a topic of controversy and debate surrounding Nintendo. I wanted to take on this dataset for analysis because I myself played Animal Crossing during the early days of the pandemic. It gave me something to do and I enjoyed it at the time, but I noticed that some people quickly became bored/burnt out with the lack of content, and I myself stopped playing after 9 months. I didn’t have the same experience as others, and because of that I want to know what the general populace thought of the game at the time by centering my project around Animal Crossing reviews.\n",
    "\n",
    "If I were given the task to help Nintendo's dev team figure out new updates for New Horizons or help contribute ideas for the next title in the Animal Crossing series, I would want to look at reviews and feedback surrounding New Horizons to let them know what they did well and what they could improve on."
   ]
  },
  {
   "cell_type": "markdown",
   "metadata": {},
   "source": [
    "## Data"
   ]
  },
  {
   "cell_type": "code",
   "execution_count": 37,
   "metadata": {},
   "outputs": [],
   "source": [
    "import pandas as pd\n",
    "import numpy as np\n",
    "import matplotlib.pyplot as plt\n",
    "import seaborn as sb\n",
    "\n",
    "import nltk\n",
    "from nltk.corpus import stopwords\n",
    "from nltk import word_tokenize, regexp_tokenize, FreqDist\n",
    "from nltk.stem import WordNetLemmatizer\n",
    "from wordcloud import WordCloud\n",
    "import string\n",
    "import re\n",
    "\n",
    "from sklearn.model_selection import train_test_split, cross_val_score\n",
    "from sklearn.linear_model import LogisticRegression\n",
    "from sklearn.feature_extraction.text import TfidfVectorizer\n",
    "from sklearn.pipeline import make_pipeline"
   ]
  },
  {
   "cell_type": "code",
   "execution_count": 2,
   "metadata": {},
   "outputs": [
    {
     "data": {
      "text/html": [
       "<div>\n",
       "<style scoped>\n",
       "    .dataframe tbody tr th:only-of-type {\n",
       "        vertical-align: middle;\n",
       "    }\n",
       "\n",
       "    .dataframe tbody tr th {\n",
       "        vertical-align: top;\n",
       "    }\n",
       "\n",
       "    .dataframe thead th {\n",
       "        text-align: right;\n",
       "    }\n",
       "</style>\n",
       "<table border=\"1\" class=\"dataframe\">\n",
       "  <thead>\n",
       "    <tr style=\"text-align: right;\">\n",
       "      <th></th>\n",
       "      <th>grade</th>\n",
       "      <th>user_name</th>\n",
       "      <th>text</th>\n",
       "      <th>date</th>\n",
       "    </tr>\n",
       "  </thead>\n",
       "  <tbody>\n",
       "    <tr>\n",
       "      <th>0</th>\n",
       "      <td>4</td>\n",
       "      <td>mds27272</td>\n",
       "      <td>My gf started playing before me. No option to ...</td>\n",
       "      <td>2020-03-20</td>\n",
       "    </tr>\n",
       "    <tr>\n",
       "      <th>1</th>\n",
       "      <td>5</td>\n",
       "      <td>lolo2178</td>\n",
       "      <td>While the game itself is great, really relaxin...</td>\n",
       "      <td>2020-03-20</td>\n",
       "    </tr>\n",
       "    <tr>\n",
       "      <th>2</th>\n",
       "      <td>0</td>\n",
       "      <td>Roachant</td>\n",
       "      <td>My wife and I were looking forward to playing ...</td>\n",
       "      <td>2020-03-20</td>\n",
       "    </tr>\n",
       "    <tr>\n",
       "      <th>3</th>\n",
       "      <td>0</td>\n",
       "      <td>Houndf</td>\n",
       "      <td>We need equal values and opportunities for all...</td>\n",
       "      <td>2020-03-20</td>\n",
       "    </tr>\n",
       "    <tr>\n",
       "      <th>4</th>\n",
       "      <td>0</td>\n",
       "      <td>ProfessorFox</td>\n",
       "      <td>BEWARE!  If you have multiple people in your h...</td>\n",
       "      <td>2020-03-20</td>\n",
       "    </tr>\n",
       "  </tbody>\n",
       "</table>\n",
       "</div>"
      ],
      "text/plain": [
       "   grade     user_name                                               text  \\\n",
       "0      4      mds27272  My gf started playing before me. No option to ...   \n",
       "1      5      lolo2178  While the game itself is great, really relaxin...   \n",
       "2      0      Roachant  My wife and I were looking forward to playing ...   \n",
       "3      0        Houndf  We need equal values and opportunities for all...   \n",
       "4      0  ProfessorFox  BEWARE!  If you have multiple people in your h...   \n",
       "\n",
       "         date  \n",
       "0  2020-03-20  \n",
       "1  2020-03-20  \n",
       "2  2020-03-20  \n",
       "3  2020-03-20  \n",
       "4  2020-03-20  "
      ]
     },
     "execution_count": 2,
     "metadata": {},
     "output_type": "execute_result"
    }
   ],
   "source": [
    "user_df = pd.read_csv('data/user_reviews.csv')\n",
    "\n",
    "user_df.head()"
   ]
  },
  {
   "cell_type": "markdown",
   "metadata": {},
   "source": [
    "Dropping `user_name` column so it's easier to focus on the most important information"
   ]
  },
  {
   "cell_type": "code",
   "execution_count": 3,
   "metadata": {},
   "outputs": [
    {
     "data": {
      "text/html": [
       "<div>\n",
       "<style scoped>\n",
       "    .dataframe tbody tr th:only-of-type {\n",
       "        vertical-align: middle;\n",
       "    }\n",
       "\n",
       "    .dataframe tbody tr th {\n",
       "        vertical-align: top;\n",
       "    }\n",
       "\n",
       "    .dataframe thead th {\n",
       "        text-align: right;\n",
       "    }\n",
       "</style>\n",
       "<table border=\"1\" class=\"dataframe\">\n",
       "  <thead>\n",
       "    <tr style=\"text-align: right;\">\n",
       "      <th></th>\n",
       "      <th>grade</th>\n",
       "      <th>text</th>\n",
       "      <th>date</th>\n",
       "    </tr>\n",
       "  </thead>\n",
       "  <tbody>\n",
       "    <tr>\n",
       "      <th>0</th>\n",
       "      <td>4</td>\n",
       "      <td>My gf started playing before me. No option to ...</td>\n",
       "      <td>2020-03-20</td>\n",
       "    </tr>\n",
       "    <tr>\n",
       "      <th>1</th>\n",
       "      <td>5</td>\n",
       "      <td>While the game itself is great, really relaxin...</td>\n",
       "      <td>2020-03-20</td>\n",
       "    </tr>\n",
       "    <tr>\n",
       "      <th>2</th>\n",
       "      <td>0</td>\n",
       "      <td>My wife and I were looking forward to playing ...</td>\n",
       "      <td>2020-03-20</td>\n",
       "    </tr>\n",
       "    <tr>\n",
       "      <th>3</th>\n",
       "      <td>0</td>\n",
       "      <td>We need equal values and opportunities for all...</td>\n",
       "      <td>2020-03-20</td>\n",
       "    </tr>\n",
       "    <tr>\n",
       "      <th>4</th>\n",
       "      <td>0</td>\n",
       "      <td>BEWARE!  If you have multiple people in your h...</td>\n",
       "      <td>2020-03-20</td>\n",
       "    </tr>\n",
       "  </tbody>\n",
       "</table>\n",
       "</div>"
      ],
      "text/plain": [
       "   grade                                               text        date\n",
       "0      4  My gf started playing before me. No option to ...  2020-03-20\n",
       "1      5  While the game itself is great, really relaxin...  2020-03-20\n",
       "2      0  My wife and I were looking forward to playing ...  2020-03-20\n",
       "3      0  We need equal values and opportunities for all...  2020-03-20\n",
       "4      0  BEWARE!  If you have multiple people in your h...  2020-03-20"
      ]
     },
     "execution_count": 3,
     "metadata": {},
     "output_type": "execute_result"
    }
   ],
   "source": [
    "user_df = user_df.drop(['user_name'], axis=1)\n",
    "user_df.head()"
   ]
  },
  {
   "cell_type": "code",
   "execution_count": 4,
   "metadata": {},
   "outputs": [
    {
     "name": "stdout",
     "output_type": "stream",
     "text": [
      "<class 'pandas.core.frame.DataFrame'>\n",
      "RangeIndex: 2999 entries, 0 to 2998\n",
      "Data columns (total 3 columns):\n",
      " #   Column  Non-Null Count  Dtype \n",
      "---  ------  --------------  ----- \n",
      " 0   grade   2999 non-null   int64 \n",
      " 1   text    2999 non-null   object\n",
      " 2   date    2999 non-null   object\n",
      "dtypes: int64(1), object(2)\n",
      "memory usage: 70.4+ KB\n"
     ]
    }
   ],
   "source": [
    "user_df.info()"
   ]
  },
  {
   "cell_type": "markdown",
   "metadata": {},
   "source": [
    "Scores among users are heavily polarized"
   ]
  },
  {
   "cell_type": "code",
   "execution_count": 5,
   "metadata": {},
   "outputs": [
    {
     "data": {
      "text/plain": [
       "<AxesSubplot:>"
      ]
     },
     "execution_count": 5,
     "metadata": {},
     "output_type": "execute_result"
    },
    {
     "data": {
      "image/png": "[encoded data removed]",
      "text/plain": [
       "<Figure size 432x288 with 1 Axes>"
      ]
     },
     "metadata": {
      "needs_background": "light"
     },
     "output_type": "display_data"
    }
   ],
   "source": [
    "user_df['grade'].hist()"
   ]
  },
  {
   "cell_type": "code",
   "execution_count": 6,
   "metadata": {},
   "outputs": [
    {
     "data": {
      "text/plain": [
       "0       My gf started playing before me. No option to ...\n",
       "1       While the game itself is great, really relaxin...\n",
       "2       My wife and I were looking forward to playing ...\n",
       "3       We need equal values and opportunities for all...\n",
       "4       BEWARE!  If you have multiple people in your h...\n",
       "                              ...                        \n",
       "2994    1 Island for console limitation.I cannot play ...\n",
       "2995    Per giocare con figli o fidanzate, mogli o per...\n",
       "2996    One island per console is a pathetic limitatio...\n",
       "2997    Even though it seems like a great game with ma...\n",
       "2998    Game is fantastic.Nintendo deciding that you c...\n",
       "Name: text, Length: 2999, dtype: object"
      ]
     },
     "execution_count": 6,
     "metadata": {},
     "output_type": "execute_result"
    }
   ],
   "source": [
    "user_df['text']"
   ]
  },
  {
   "cell_type": "markdown",
   "metadata": {},
   "source": [
    "Tokenizing text"
   ]
  },
  {
   "cell_type": "code",
   "execution_count": 7,
   "metadata": {},
   "outputs": [
    {
     "data": {
      "text/plain": [
       "0       [My, gf, started, playing, before, me, No, opt...\n",
       "1       [While, the, game, itself, is, great, really, ...\n",
       "2       [My, wife, and, I, were, looking, forward, to,...\n",
       "3       [We, need, equal, values, and, opportunities, ...\n",
       "4       [BEWARE, If, you, have, multiple, people, in, ...\n",
       "                              ...                        \n",
       "2994    [Island, for, console, limitation, I, cannot, ...\n",
       "2995    [Per, giocare, con, figli, o, fidanzate, mogli...\n",
       "2996    [One, island, per, console, is, a, pathetic, l...\n",
       "2997    [Even, though, it, seems, like, a, great, game...\n",
       "2998    [Game, is, fantastic, Nintendo, deciding, that...\n",
       "Name: tokens_raw, Length: 2999, dtype: object"
      ]
     },
     "execution_count": 7,
     "metadata": {},
     "output_type": "execute_result"
    }
   ],
   "source": [
    "pattern = \"([a-zA-Z]+(?:'[a-z]+)?)\" # defining pattern so tokenizer recognizes apostrophes as one word\n",
    "\n",
    "user_df['tokens_raw'] = [regexp_tokenize(text, pattern) for text in user_df['text']]\n",
    "\n",
    "user_df['tokens_raw']"
   ]
  },
  {
   "cell_type": "markdown",
   "metadata": {},
   "source": [
    "Lowercasing text"
   ]
  },
  {
   "cell_type": "code",
   "execution_count": 8,
   "metadata": {},
   "outputs": [
    {
     "data": {
      "text/html": [
       "<div>\n",
       "<style scoped>\n",
       "    .dataframe tbody tr th:only-of-type {\n",
       "        vertical-align: middle;\n",
       "    }\n",
       "\n",
       "    .dataframe tbody tr th {\n",
       "        vertical-align: top;\n",
       "    }\n",
       "\n",
       "    .dataframe thead th {\n",
       "        text-align: right;\n",
       "    }\n",
       "</style>\n",
       "<table border=\"1\" class=\"dataframe\">\n",
       "  <thead>\n",
       "    <tr style=\"text-align: right;\">\n",
       "      <th></th>\n",
       "      <th>grade</th>\n",
       "      <th>text</th>\n",
       "      <th>date</th>\n",
       "      <th>tokens_raw</th>\n",
       "      <th>tokens</th>\n",
       "    </tr>\n",
       "  </thead>\n",
       "  <tbody>\n",
       "    <tr>\n",
       "      <th>0</th>\n",
       "      <td>4</td>\n",
       "      <td>My gf started playing before me. No option to ...</td>\n",
       "      <td>2020-03-20</td>\n",
       "      <td>[My, gf, started, playing, before, me, No, opt...</td>\n",
       "      <td>[my, gf, started, playing, before, me, no, opt...</td>\n",
       "    </tr>\n",
       "    <tr>\n",
       "      <th>1</th>\n",
       "      <td>5</td>\n",
       "      <td>While the game itself is great, really relaxin...</td>\n",
       "      <td>2020-03-20</td>\n",
       "      <td>[While, the, game, itself, is, great, really, ...</td>\n",
       "      <td>[while, the, game, itself, is, great, really, ...</td>\n",
       "    </tr>\n",
       "    <tr>\n",
       "      <th>2</th>\n",
       "      <td>0</td>\n",
       "      <td>My wife and I were looking forward to playing ...</td>\n",
       "      <td>2020-03-20</td>\n",
       "      <td>[My, wife, and, I, were, looking, forward, to,...</td>\n",
       "      <td>[my, wife, and, i, were, looking, forward, to,...</td>\n",
       "    </tr>\n",
       "    <tr>\n",
       "      <th>3</th>\n",
       "      <td>0</td>\n",
       "      <td>We need equal values and opportunities for all...</td>\n",
       "      <td>2020-03-20</td>\n",
       "      <td>[We, need, equal, values, and, opportunities, ...</td>\n",
       "      <td>[we, need, equal, values, and, opportunities, ...</td>\n",
       "    </tr>\n",
       "    <tr>\n",
       "      <th>4</th>\n",
       "      <td>0</td>\n",
       "      <td>BEWARE!  If you have multiple people in your h...</td>\n",
       "      <td>2020-03-20</td>\n",
       "      <td>[BEWARE, If, you, have, multiple, people, in, ...</td>\n",
       "      <td>[beware, if, you, have, multiple, people, in, ...</td>\n",
       "    </tr>\n",
       "  </tbody>\n",
       "</table>\n",
       "</div>"
      ],
      "text/plain": [
       "   grade                                               text        date  \\\n",
       "0      4  My gf started playing before me. No option to ...  2020-03-20   \n",
       "1      5  While the game itself is great, really relaxin...  2020-03-20   \n",
       "2      0  My wife and I were looking forward to playing ...  2020-03-20   \n",
       "3      0  We need equal values and opportunities for all...  2020-03-20   \n",
       "4      0  BEWARE!  If you have multiple people in your h...  2020-03-20   \n",
       "\n",
       "                                          tokens_raw  \\\n",
       "0  [My, gf, started, playing, before, me, No, opt...   \n",
       "1  [While, the, game, itself, is, great, really, ...   \n",
       "2  [My, wife, and, I, were, looking, forward, to,...   \n",
       "3  [We, need, equal, values, and, opportunities, ...   \n",
       "4  [BEWARE, If, you, have, multiple, people, in, ...   \n",
       "\n",
       "                                              tokens  \n",
       "0  [my, gf, started, playing, before, me, no, opt...  \n",
       "1  [while, the, game, itself, is, great, really, ...  \n",
       "2  [my, wife, and, i, were, looking, forward, to,...  \n",
       "3  [we, need, equal, values, and, opportunities, ...  \n",
       "4  [beware, if, you, have, multiple, people, in, ...  "
      ]
     },
     "execution_count": 8,
     "metadata": {},
     "output_type": "execute_result"
    }
   ],
   "source": [
    "user_df['tokens'] = user_df['tokens_raw'].apply(lambda x: [word.lower() for word in x])\n",
    "user_df.head()"
   ]
  },
  {
   "cell_type": "markdown",
   "metadata": {},
   "source": [
    "Removing stopwords"
   ]
  },
  {
   "cell_type": "code",
   "execution_count": 29,
   "metadata": {},
   "outputs": [
    {
     "data": {
      "text/html": [
       "<div>\n",
       "<style scoped>\n",
       "    .dataframe tbody tr th:only-of-type {\n",
       "        vertical-align: middle;\n",
       "    }\n",
       "\n",
       "    .dataframe tbody tr th {\n",
       "        vertical-align: top;\n",
       "    }\n",
       "\n",
       "    .dataframe thead th {\n",
       "        text-align: right;\n",
       "    }\n",
       "</style>\n",
       "<table border=\"1\" class=\"dataframe\">\n",
       "  <thead>\n",
       "    <tr style=\"text-align: right;\">\n",
       "      <th></th>\n",
       "      <th>grade</th>\n",
       "      <th>text</th>\n",
       "      <th>date</th>\n",
       "      <th>tokens_raw</th>\n",
       "      <th>tokens</th>\n",
       "      <th>no_stops</th>\n",
       "      <th>sentiment</th>\n",
       "    </tr>\n",
       "  </thead>\n",
       "  <tbody>\n",
       "    <tr>\n",
       "      <th>0</th>\n",
       "      <td>4</td>\n",
       "      <td>My gf started playing before me. No option to ...</td>\n",
       "      <td>2020-03-20</td>\n",
       "      <td>[My, gf, started, playing, before, me, No, opt...</td>\n",
       "      <td>[my, gf, started, playing, before, me, no, opt...</td>\n",
       "      <td>[gf, started, playing, option, create, island,...</td>\n",
       "      <td>negative</td>\n",
       "    </tr>\n",
       "    <tr>\n",
       "      <th>1</th>\n",
       "      <td>5</td>\n",
       "      <td>While the game itself is great, really relaxin...</td>\n",
       "      <td>2020-03-20</td>\n",
       "      <td>[While, the, game, itself, is, great, really, ...</td>\n",
       "      <td>[while, the, game, itself, is, great, really, ...</td>\n",
       "      <td>[great, really, relaxing, gorgeous, can't, ign...</td>\n",
       "      <td>negative</td>\n",
       "    </tr>\n",
       "    <tr>\n",
       "      <th>2</th>\n",
       "      <td>0</td>\n",
       "      <td>My wife and I were looking forward to playing ...</td>\n",
       "      <td>2020-03-20</td>\n",
       "      <td>[My, wife, and, I, were, looking, forward, to,...</td>\n",
       "      <td>[my, wife, and, i, were, looking, forward, to,...</td>\n",
       "      <td>[wife, looking, forward, playing, released, bo...</td>\n",
       "      <td>negative</td>\n",
       "    </tr>\n",
       "    <tr>\n",
       "      <th>3</th>\n",
       "      <td>0</td>\n",
       "      <td>We need equal values and opportunities for all...</td>\n",
       "      <td>2020-03-20</td>\n",
       "      <td>[We, need, equal, values, and, opportunities, ...</td>\n",
       "      <td>[we, need, equal, values, and, opportunities, ...</td>\n",
       "      <td>[need, equal, values, opportunities, players, ...</td>\n",
       "      <td>negative</td>\n",
       "    </tr>\n",
       "    <tr>\n",
       "      <th>4</th>\n",
       "      <td>0</td>\n",
       "      <td>BEWARE!  If you have multiple people in your h...</td>\n",
       "      <td>2020-03-20</td>\n",
       "      <td>[BEWARE, If, you, have, multiple, people, in, ...</td>\n",
       "      <td>[beware, if, you, have, multiple, people, in, ...</td>\n",
       "      <td>[beware, multiple, people, house, want, play, ...</td>\n",
       "      <td>negative</td>\n",
       "    </tr>\n",
       "  </tbody>\n",
       "</table>\n",
       "</div>"
      ],
      "text/plain": [
       "   grade                                               text        date  \\\n",
       "0      4  My gf started playing before me. No option to ...  2020-03-20   \n",
       "1      5  While the game itself is great, really relaxin...  2020-03-20   \n",
       "2      0  My wife and I were looking forward to playing ...  2020-03-20   \n",
       "3      0  We need equal values and opportunities for all...  2020-03-20   \n",
       "4      0  BEWARE!  If you have multiple people in your h...  2020-03-20   \n",
       "\n",
       "                                          tokens_raw  \\\n",
       "0  [My, gf, started, playing, before, me, No, opt...   \n",
       "1  [While, the, game, itself, is, great, really, ...   \n",
       "2  [My, wife, and, I, were, looking, forward, to,...   \n",
       "3  [We, need, equal, values, and, opportunities, ...   \n",
       "4  [BEWARE, If, you, have, multiple, people, in, ...   \n",
       "\n",
       "                                              tokens  \\\n",
       "0  [my, gf, started, playing, before, me, no, opt...   \n",
       "1  [while, the, game, itself, is, great, really, ...   \n",
       "2  [my, wife, and, i, were, looking, forward, to,...   \n",
       "3  [we, need, equal, values, and, opportunities, ...   \n",
       "4  [beware, if, you, have, multiple, people, in, ...   \n",
       "\n",
       "                                            no_stops sentiment  \n",
       "0  [gf, started, playing, option, create, island,...  negative  \n",
       "1  [great, really, relaxing, gorgeous, can't, ign...  negative  \n",
       "2  [wife, looking, forward, playing, released, bo...  negative  \n",
       "3  [need, equal, values, opportunities, players, ...  negative  \n",
       "4  [beware, multiple, people, house, want, play, ...  negative  "
      ]
     },
     "execution_count": 29,
     "metadata": {},
     "output_type": "execute_result"
    }
   ],
   "source": [
    "stopwords_list = stopwords.words('english')\n",
    "stopwords_list += list(string.punctuation)\n",
    "stopwords_list += ['game', 'animal', 'crossing']\n",
    "user_df['no_stops'] = user_df['tokens'].apply(lambda x: [w for w in x if w not in stopwords_list])\n",
    "\n",
    "user_df.head()"
   ]
  },
  {
   "cell_type": "markdown",
   "metadata": {},
   "source": [
    "Creating frequency distribution of words among reviews"
   ]
  },
  {
   "cell_type": "code",
   "execution_count": 30,
   "metadata": {},
   "outputs": [
    {
     "data": {
      "image/png": "[encoded data removed]",
      "text/plain": [
       "<Figure size 432x288 with 1 Axes>"
      ]
     },
     "metadata": {
      "needs_background": "light"
     },
     "output_type": "display_data"
    },
    {
     "data": {
      "text/plain": [
       "<AxesSubplot:title={'center':'Most common words'}, xlabel='Samples', ylabel='Counts'>"
      ]
     },
     "execution_count": 30,
     "metadata": {},
     "output_type": "execute_result"
    }
   ],
   "source": [
    "# for token_list in user_df['no_stops']:\n",
    "#     token_list = ' '.join(token_list)\n",
    "#     token_list = token_list.split(' ')\n",
    "test = user_df.no_stops.explode().to_list()\n",
    "fdist = FreqDist(test)\n",
    "fdist.plot(30, title='Most common words')\n",
    "\n",
    "# # user_freqdist = FreqDist(user_df['tokens_raw'])\n",
    "# # user_freqdist.most_common(50)"
   ]
  },
  {
   "cell_type": "markdown",
   "metadata": {},
   "source": [
    "Assigning \"positive\" and \"negative\" labels to data based on score threshold. For reference:\n",
    "- 0-6 will be considered \"negative\"\n",
    "- 7-10 will be considered \"positive\""
   ]
  },
  {
   "cell_type": "code",
   "execution_count": 25,
   "metadata": {},
   "outputs": [],
   "source": [
    "def sentiment_labels(row):\n",
    "    if row['grade'] >= 7:\n",
    "        val = 'positive'\n",
    "    elif row['grade'] <= 6:\n",
    "        val = 'negative'\n",
    "    return val"
   ]
  },
  {
   "cell_type": "code",
   "execution_count": 26,
   "metadata": {},
   "outputs": [
    {
     "data": {
      "text/html": [
       "<div>\n",
       "<style scoped>\n",
       "    .dataframe tbody tr th:only-of-type {\n",
       "        vertical-align: middle;\n",
       "    }\n",
       "\n",
       "    .dataframe tbody tr th {\n",
       "        vertical-align: top;\n",
       "    }\n",
       "\n",
       "    .dataframe thead th {\n",
       "        text-align: right;\n",
       "    }\n",
       "</style>\n",
       "<table border=\"1\" class=\"dataframe\">\n",
       "  <thead>\n",
       "    <tr style=\"text-align: right;\">\n",
       "      <th></th>\n",
       "      <th>grade</th>\n",
       "      <th>text</th>\n",
       "      <th>date</th>\n",
       "      <th>tokens_raw</th>\n",
       "      <th>tokens</th>\n",
       "      <th>no_stops</th>\n",
       "      <th>sentiment</th>\n",
       "    </tr>\n",
       "  </thead>\n",
       "  <tbody>\n",
       "    <tr>\n",
       "      <th>0</th>\n",
       "      <td>4</td>\n",
       "      <td>My gf started playing before me. No option to ...</td>\n",
       "      <td>2020-03-20</td>\n",
       "      <td>[My, gf, started, playing, before, me, No, opt...</td>\n",
       "      <td>[my, gf, started, playing, before, me, no, opt...</td>\n",
       "      <td>[gf, started, playing, option, create, island,...</td>\n",
       "      <td>negative</td>\n",
       "    </tr>\n",
       "    <tr>\n",
       "      <th>1</th>\n",
       "      <td>5</td>\n",
       "      <td>While the game itself is great, really relaxin...</td>\n",
       "      <td>2020-03-20</td>\n",
       "      <td>[While, the, game, itself, is, great, really, ...</td>\n",
       "      <td>[while, the, game, itself, is, great, really, ...</td>\n",
       "      <td>[game, great, really, relaxing, gorgeous, can'...</td>\n",
       "      <td>negative</td>\n",
       "    </tr>\n",
       "    <tr>\n",
       "      <th>2</th>\n",
       "      <td>0</td>\n",
       "      <td>My wife and I were looking forward to playing ...</td>\n",
       "      <td>2020-03-20</td>\n",
       "      <td>[My, wife, and, I, were, looking, forward, to,...</td>\n",
       "      <td>[my, wife, and, i, were, looking, forward, to,...</td>\n",
       "      <td>[wife, looking, forward, playing, game, releas...</td>\n",
       "      <td>negative</td>\n",
       "    </tr>\n",
       "    <tr>\n",
       "      <th>3</th>\n",
       "      <td>0</td>\n",
       "      <td>We need equal values and opportunities for all...</td>\n",
       "      <td>2020-03-20</td>\n",
       "      <td>[We, need, equal, values, and, opportunities, ...</td>\n",
       "      <td>[we, need, equal, values, and, opportunities, ...</td>\n",
       "      <td>[need, equal, values, opportunities, players, ...</td>\n",
       "      <td>negative</td>\n",
       "    </tr>\n",
       "    <tr>\n",
       "      <th>4</th>\n",
       "      <td>0</td>\n",
       "      <td>BEWARE!  If you have multiple people in your h...</td>\n",
       "      <td>2020-03-20</td>\n",
       "      <td>[BEWARE, If, you, have, multiple, people, in, ...</td>\n",
       "      <td>[beware, if, you, have, multiple, people, in, ...</td>\n",
       "      <td>[beware, multiple, people, house, want, play, ...</td>\n",
       "      <td>negative</td>\n",
       "    </tr>\n",
       "    <tr>\n",
       "      <th>...</th>\n",
       "      <td>...</td>\n",
       "      <td>...</td>\n",
       "      <td>...</td>\n",
       "      <td>...</td>\n",
       "      <td>...</td>\n",
       "      <td>...</td>\n",
       "      <td>...</td>\n",
       "    </tr>\n",
       "    <tr>\n",
       "      <th>2994</th>\n",
       "      <td>1</td>\n",
       "      <td>1 Island for console limitation.I cannot play ...</td>\n",
       "      <td>2020-05-03</td>\n",
       "      <td>[Island, for, console, limitation, I, cannot, ...</td>\n",
       "      <td>[island, for, console, limitation, i, cannot, ...</td>\n",
       "      <td>[island, console, limitation, cannot, play, ga...</td>\n",
       "      <td>negative</td>\n",
       "    </tr>\n",
       "    <tr>\n",
       "      <th>2995</th>\n",
       "      <td>1</td>\n",
       "      <td>Per giocare con figli o fidanzate, mogli o per...</td>\n",
       "      <td>2020-05-03</td>\n",
       "      <td>[Per, giocare, con, figli, o, fidanzate, mogli...</td>\n",
       "      <td>[per, giocare, con, figli, o, fidanzate, mogli...</td>\n",
       "      <td>[per, giocare, con, figli, fidanzate, mogli, p...</td>\n",
       "      <td>negative</td>\n",
       "    </tr>\n",
       "    <tr>\n",
       "      <th>2996</th>\n",
       "      <td>0</td>\n",
       "      <td>One island per console is a pathetic limitatio...</td>\n",
       "      <td>2020-05-03</td>\n",
       "      <td>[One, island, per, console, is, a, pathetic, l...</td>\n",
       "      <td>[one, island, per, console, is, a, pathetic, l...</td>\n",
       "      <td>[one, island, per, console, pathetic, limitati...</td>\n",
       "      <td>negative</td>\n",
       "    </tr>\n",
       "    <tr>\n",
       "      <th>2997</th>\n",
       "      <td>2</td>\n",
       "      <td>Even though it seems like a great game with ma...</td>\n",
       "      <td>2020-05-03</td>\n",
       "      <td>[Even, though, it, seems, like, a, great, game...</td>\n",
       "      <td>[even, though, it, seems, like, a, great, game...</td>\n",
       "      <td>[even, though, seems, like, great, game, many,...</td>\n",
       "      <td>negative</td>\n",
       "    </tr>\n",
       "    <tr>\n",
       "      <th>2998</th>\n",
       "      <td>4</td>\n",
       "      <td>Game is fantastic.Nintendo deciding that you c...</td>\n",
       "      <td>2020-05-03</td>\n",
       "      <td>[Game, is, fantastic, Nintendo, deciding, that...</td>\n",
       "      <td>[game, is, fantastic, nintendo, deciding, that...</td>\n",
       "      <td>[game, fantastic, nintendo, deciding, make, on...</td>\n",
       "      <td>negative</td>\n",
       "    </tr>\n",
       "  </tbody>\n",
       "</table>\n",
       "<p>2999 rows × 7 columns</p>\n",
       "</div>"
      ],
      "text/plain": [
       "      grade                                               text        date  \\\n",
       "0         4  My gf started playing before me. No option to ...  2020-03-20   \n",
       "1         5  While the game itself is great, really relaxin...  2020-03-20   \n",
       "2         0  My wife and I were looking forward to playing ...  2020-03-20   \n",
       "3         0  We need equal values and opportunities for all...  2020-03-20   \n",
       "4         0  BEWARE!  If you have multiple people in your h...  2020-03-20   \n",
       "...     ...                                                ...         ...   \n",
       "2994      1  1 Island for console limitation.I cannot play ...  2020-05-03   \n",
       "2995      1  Per giocare con figli o fidanzate, mogli o per...  2020-05-03   \n",
       "2996      0  One island per console is a pathetic limitatio...  2020-05-03   \n",
       "2997      2  Even though it seems like a great game with ma...  2020-05-03   \n",
       "2998      4  Game is fantastic.Nintendo deciding that you c...  2020-05-03   \n",
       "\n",
       "                                             tokens_raw  \\\n",
       "0     [My, gf, started, playing, before, me, No, opt...   \n",
       "1     [While, the, game, itself, is, great, really, ...   \n",
       "2     [My, wife, and, I, were, looking, forward, to,...   \n",
       "3     [We, need, equal, values, and, opportunities, ...   \n",
       "4     [BEWARE, If, you, have, multiple, people, in, ...   \n",
       "...                                                 ...   \n",
       "2994  [Island, for, console, limitation, I, cannot, ...   \n",
       "2995  [Per, giocare, con, figli, o, fidanzate, mogli...   \n",
       "2996  [One, island, per, console, is, a, pathetic, l...   \n",
       "2997  [Even, though, it, seems, like, a, great, game...   \n",
       "2998  [Game, is, fantastic, Nintendo, deciding, that...   \n",
       "\n",
       "                                                 tokens  \\\n",
       "0     [my, gf, started, playing, before, me, no, opt...   \n",
       "1     [while, the, game, itself, is, great, really, ...   \n",
       "2     [my, wife, and, i, were, looking, forward, to,...   \n",
       "3     [we, need, equal, values, and, opportunities, ...   \n",
       "4     [beware, if, you, have, multiple, people, in, ...   \n",
       "...                                                 ...   \n",
       "2994  [island, for, console, limitation, i, cannot, ...   \n",
       "2995  [per, giocare, con, figli, o, fidanzate, mogli...   \n",
       "2996  [one, island, per, console, is, a, pathetic, l...   \n",
       "2997  [even, though, it, seems, like, a, great, game...   \n",
       "2998  [game, is, fantastic, nintendo, deciding, that...   \n",
       "\n",
       "                                               no_stops sentiment  \n",
       "0     [gf, started, playing, option, create, island,...  negative  \n",
       "1     [game, great, really, relaxing, gorgeous, can'...  negative  \n",
       "2     [wife, looking, forward, playing, game, releas...  negative  \n",
       "3     [need, equal, values, opportunities, players, ...  negative  \n",
       "4     [beware, multiple, people, house, want, play, ...  negative  \n",
       "...                                                 ...       ...  \n",
       "2994  [island, console, limitation, cannot, play, ga...  negative  \n",
       "2995  [per, giocare, con, figli, fidanzate, mogli, p...  negative  \n",
       "2996  [one, island, per, console, pathetic, limitati...  negative  \n",
       "2997  [even, though, seems, like, great, game, many,...  negative  \n",
       "2998  [game, fantastic, nintendo, deciding, make, on...  negative  \n",
       "\n",
       "[2999 rows x 7 columns]"
      ]
     },
     "execution_count": 26,
     "metadata": {},
     "output_type": "execute_result"
    }
   ],
   "source": [
    "user_df['sentiment'] = user_df.apply(sentiment_labels, axis=1)\n",
    "user_df"
   ]
  },
  {
   "cell_type": "markdown",
   "metadata": {},
   "source": [
    "Investigating class balance"
   ]
  },
  {
   "cell_type": "code",
   "execution_count": 36,
   "metadata": {},
   "outputs": [
    {
     "data": {
      "text/plain": [
       "negative    0.623208\n",
       "positive    0.376792\n",
       "Name: sentiment, dtype: float64"
      ]
     },
     "execution_count": 36,
     "metadata": {},
     "output_type": "execute_result"
    }
   ],
   "source": [
    "user_df['sentiment'].value_counts(normalize=True)"
   ]
  },
  {
   "cell_type": "code",
   "execution_count": 28,
   "metadata": {},
   "outputs": [
    {
     "data": {
      "text/plain": [
       "<AxesSubplot:>"
      ]
     },
     "execution_count": 28,
     "metadata": {},
     "output_type": "execute_result"
    },
    {
     "data": {
      "image/png": "[encoded data removed]",
      "text/plain": [
       "<Figure size 432x288 with 1 Axes>"
      ]
     },
     "metadata": {
      "needs_background": "light"
     },
     "output_type": "display_data"
    }
   ],
   "source": [
    "user_df['sentiment'].hist()"
   ]
  },
  {
   "cell_type": "code",
   "execution_count": null,
   "metadata": {},
   "outputs": [],
   "source": []
  },
  {
   "cell_type": "code",
   "execution_count": null,
   "metadata": {},
   "outputs": [],
   "source": []
  },
  {
   "cell_type": "code",
   "execution_count": null,
   "metadata": {},
   "outputs": [],
   "source": []
  },
  {
   "cell_type": "markdown",
   "metadata": {},
   "source": [
    "## Preprocessing"
   ]
  },
  {
   "cell_type": "markdown",
   "metadata": {},
   "source": [
    "Lemmatizing words"
   ]
  },
  {
   "cell_type": "code",
   "execution_count": 34,
   "metadata": {},
   "outputs": [
    {
     "data": {
      "text/plain": [
       "0       [gf, started, playing, option, create, island,...\n",
       "1       [great, really, relaxing, gorgeous, can't, ign...\n",
       "2       [wife, looking, forward, playing, released, bo...\n",
       "3       [need, equal, value, opportunity, player, isla...\n",
       "4       [beware, multiple, people, house, want, play, ...\n",
       "                              ...                        \n",
       "2994    [island, console, limitation, cannot, play, gi...\n",
       "2995    [per, giocare, con, figli, fidanzate, mogli, p...\n",
       "2996    [one, island, per, console, pathetic, limitati...\n",
       "2997    [even, though, seems, like, great, many, item,...\n",
       "2998    [fantastic, nintendo, deciding, make, one, isl...\n",
       "Name: lemmatized, Length: 2999, dtype: object"
      ]
     },
     "execution_count": 34,
     "metadata": {},
     "output_type": "execute_result"
    }
   ],
   "source": [
    "lemmatizer = WordNetLemmatizer()\n",
    "user_df['lemmatized'] = user_df['no_stops'].apply(lambda x:[lemmatizer.lemmatize(w) for w in x])\n",
    "user_df['lemmatized']"
   ]
  },
  {
   "cell_type": "markdown",
   "metadata": {},
   "source": [
    "Training and test set split"
   ]
  },
  {
   "cell_type": "code",
   "execution_count": 35,
   "metadata": {},
   "outputs": [],
   "source": [
    "X = user_df['lemmatized'].str.join(' ')\n",
    "y = user_df['sentiment']\n",
    "\n",
    "X_train, X_test, y_train, y_test = train_test_split(X, y, test_size=0.2, random_state=123)"
   ]
  },
  {
   "cell_type": "markdown",
   "metadata": {},
   "source": [
    "Will consider rebalancing data later"
   ]
  },
  {
   "cell_type": "code",
   "execution_count": null,
   "metadata": {},
   "outputs": [],
   "source": []
  },
  {
   "cell_type": "markdown",
   "metadata": {},
   "source": [
    "## Analysis"
   ]
  },
  {
   "cell_type": "markdown",
   "metadata": {},
   "source": [
    "First model is simple machine learning model, logistic regression model"
   ]
  },
  {
   "cell_type": "code",
   "execution_count": 40,
   "metadata": {},
   "outputs": [
    {
     "name": "stdout",
     "output_type": "stream",
     "text": [
      "[0.88125    0.89166667 0.8625     0.88541667 0.88517745]\n"
     ]
    }
   ],
   "source": [
    "logreg_model = LogisticRegression()\n",
    "tfidf_vectorizer = TfidfVectorizer()\n",
    "\n",
    "logreg_pipe = make_pipeline(tfidf_vectorizer, logreg_model)\n",
    "\n",
    "scores = cross_val_score(logreg_pipe, X_train, y_train)\n",
    "print(scores)"
   ]
  },
  {
   "cell_type": "code",
   "execution_count": null,
   "metadata": {},
   "outputs": [],
   "source": []
  },
  {
   "cell_type": "code",
   "execution_count": null,
   "metadata": {},
   "outputs": [],
   "source": []
  }
 ],
 "metadata": {
  "kernelspec": {
   "display_name": "Python 3",
   "language": "python",
   "name": "python3"
  },
  "language_info": {
   "codemirror_mode": {
    "name": "ipython",
    "version": 3
   },
   "file_extension": ".py",
   "mimetype": "text/x-python",
   "name": "python",
   "nbconvert_exporter": "python",
   "pygments_lexer": "ipython3",
   "version": "3.8.5"
  }
 },
 "nbformat": 4,
 "nbformat_minor": 4
}
