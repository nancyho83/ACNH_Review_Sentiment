{
 "cells": [
  {
   "cell_type": "markdown",
   "metadata": {},
   "source": [
    "## Introduction"
   ]
  },
  {
   "cell_type": "markdown",
   "metadata": {},
   "source": [
    "I wanted to take on this dataset for analysis because I myself played Animal Crossing: New Horizons during the early days of the pandemic. It gave me something to do and I enjoyed it at the time, but I myself stopped playing after 9 months. Obviously, I didn’t have the same experience as others, and because of that it inspired me to research what other people thought of the game at the time and determine what the general consensus is surrounding this game, which led me to center this project around reviews for Animal Crossing: New Horizons.\n",
    "\n",
    "This project consists of two parts: the creation of a machine learning model using the scikit-learn library that can perform an optimized sentiment rating on reviews for Animal Crossing: New Horizons and the deployment of that model to create an application that can predict the sentiment of a review for this game based on a pure review of the game."
   ]
  },
  {
   "cell_type": "markdown",
   "metadata": {},
   "source": [
    "## Business Problem"
   ]
  },
  {
   "cell_type": "markdown",
   "metadata": {},
   "source": [
    "Animal Crossing: New Horizons is one of the Nintendo Switch's best entries, having sold 33.89 million copies [(as of June 30, 2021)](https://www.nintendo.co.jp/ir/en/finance/software/index.html) and is the second-best selling game in the console's history. Having released during the beginning the COVID-19 pandemic, it served as a cultural icon and played a major part in driving Switch sales. However, since the beginning it has been a growing topic of controversy and debate. Fans of the franchise would (and still do) comment about how lackluster its features were compared to past titles, while others just become burnt out and bored quickly due to the lack of content.\n",
    "\n",
    "If I were given the task to help Nintendo's dev team figure out new updates for New Horizons or help contribute ideas for the next title in the Animal Crossing series, I would want to look at reviews and feedback surrounding New Horizons to let them know what they did well and what they could improve on. To do this, first I create and test a machine learning model using modules from the scikit-learn library that can accurately predict a user's review sentiment based on the content in the review. We can then use the best model from our test models and create an application where users can input their own reviews for the game and receive a prediction for the sentiment of their review. This would allow us to use the feedback collected from the users who submitted reviews to further investigate what we did well and what we can improve on in later titles."
   ]
  },
  {
   "cell_type": "markdown",
   "metadata": {},
   "source": [
    "## Data Preparation"
   ]
  },
  {
   "cell_type": "code",
   "execution_count": 1,
   "metadata": {},
   "outputs": [],
   "source": [
    "import pandas as pd\n",
    "import numpy as np\n",
    "import matplotlib.pyplot as plt\n",
    "import seaborn as sb\n",
    "\n",
    "from nltk.corpus import stopwords\n",
    "from nltk import word_tokenize, regexp_tokenize, FreqDist\n",
    "from nltk.stem import WordNetLemmatizer\n",
    "from wordcloud import WordCloud\n",
    "import string\n",
    "import re\n",
    "\n",
    "from sklearn.model_selection import train_test_split, cross_val_score, GridSearchCV\n",
    "from sklearn.linear_model import LogisticRegression\n",
    "from sklearn.feature_extraction.text import TfidfVectorizer\n",
    "from sklearn.metrics import plot_confusion_matrix, recall_score, f1_score\n",
    "from sklearn.naive_bayes import MultinomialNB\n",
    "from sklearn.tree import DecisionTreeClassifier\n",
    "from sklearn.ensemble import RandomForestClassifier\n",
    "\n",
    "from imblearn.over_sampling import SMOTE\n",
    "from imblearn.pipeline import make_pipeline\n",
    "\n",
    "import warnings\n",
    "warnings.filterwarnings('ignore')"
   ]
  },
  {
   "cell_type": "markdown",
   "metadata": {},
   "source": [
    "### Exploring the data"
   ]
  },
  {
   "cell_type": "markdown",
   "metadata": {},
   "source": [
    "The data used comes from Jesse Mostipak on Kaggle and contains reviews from Metacritic from critics and users of the site that submitted reviews for Animal Crossing: New Horizons. Since we are primarily concerned with the opinions of our playerbase, we will only be using the `user_reviews.csv` file, which can be accessed from the project repository's `data` folder."
   ]
  },
  {
   "cell_type": "code",
   "execution_count": 2,
   "metadata": {},
   "outputs": [
    {
     "data": {
      "text/html": [
       "<div>\n",
       "<style scoped>\n",
       "    .dataframe tbody tr th:only-of-type {\n",
       "        vertical-align: middle;\n",
       "    }\n",
       "\n",
       "    .dataframe tbody tr th {\n",
       "        vertical-align: top;\n",
       "    }\n",
       "\n",
       "    .dataframe thead th {\n",
       "        text-align: right;\n",
       "    }\n",
       "</style>\n",
       "<table border=\"1\" class=\"dataframe\">\n",
       "  <thead>\n",
       "    <tr style=\"text-align: right;\">\n",
       "      <th></th>\n",
       "      <th>grade</th>\n",
       "      <th>user_name</th>\n",
       "      <th>text</th>\n",
       "      <th>date</th>\n",
       "    </tr>\n",
       "  </thead>\n",
       "  <tbody>\n",
       "    <tr>\n",
       "      <th>0</th>\n",
       "      <td>4</td>\n",
       "      <td>mds27272</td>\n",
       "      <td>My gf started playing before me. No option to ...</td>\n",
       "      <td>2020-03-20</td>\n",
       "    </tr>\n",
       "    <tr>\n",
       "      <th>1</th>\n",
       "      <td>5</td>\n",
       "      <td>lolo2178</td>\n",
       "      <td>While the game itself is great, really relaxin...</td>\n",
       "      <td>2020-03-20</td>\n",
       "    </tr>\n",
       "    <tr>\n",
       "      <th>2</th>\n",
       "      <td>0</td>\n",
       "      <td>Roachant</td>\n",
       "      <td>My wife and I were looking forward to playing ...</td>\n",
       "      <td>2020-03-20</td>\n",
       "    </tr>\n",
       "    <tr>\n",
       "      <th>3</th>\n",
       "      <td>0</td>\n",
       "      <td>Houndf</td>\n",
       "      <td>We need equal values and opportunities for all...</td>\n",
       "      <td>2020-03-20</td>\n",
       "    </tr>\n",
       "    <tr>\n",
       "      <th>4</th>\n",
       "      <td>0</td>\n",
       "      <td>ProfessorFox</td>\n",
       "      <td>BEWARE!  If you have multiple people in your h...</td>\n",
       "      <td>2020-03-20</td>\n",
       "    </tr>\n",
       "  </tbody>\n",
       "</table>\n",
       "</div>"
      ],
      "text/plain": [
       "   grade     user_name                                               text  \\\n",
       "0      4      mds27272  My gf started playing before me. No option to ...   \n",
       "1      5      lolo2178  While the game itself is great, really relaxin...   \n",
       "2      0      Roachant  My wife and I were looking forward to playing ...   \n",
       "3      0        Houndf  We need equal values and opportunities for all...   \n",
       "4      0  ProfessorFox  BEWARE!  If you have multiple people in your h...   \n",
       "\n",
       "         date  \n",
       "0  2020-03-20  \n",
       "1  2020-03-20  \n",
       "2  2020-03-20  \n",
       "3  2020-03-20  \n",
       "4  2020-03-20  "
      ]
     },
     "execution_count": 2,
     "metadata": {},
     "output_type": "execute_result"
    }
   ],
   "source": [
    "user_df = pd.read_csv('data/user_reviews.csv')\n",
    "user_df.head()"
   ]
  },
  {
   "cell_type": "markdown",
   "metadata": {},
   "source": [
    "Dropping the `user_name` column of the dataframe so we can more easily focus on the most important components,\n",
    "we investigate the logistics of the data:"
   ]
  },
  {
   "cell_type": "code",
   "execution_count": 3,
   "metadata": {},
   "outputs": [
    {
     "name": "stdout",
     "output_type": "stream",
     "text": [
      "<class 'pandas.core.frame.DataFrame'>\n",
      "RangeIndex: 2999 entries, 0 to 2998\n",
      "Data columns (total 3 columns):\n",
      " #   Column  Non-Null Count  Dtype \n",
      "---  ------  --------------  ----- \n",
      " 0   grade   2999 non-null   int64 \n",
      " 1   text    2999 non-null   object\n",
      " 2   date    2999 non-null   object\n",
      "dtypes: int64(1), object(2)\n",
      "memory usage: 70.4+ KB\n",
      "None\n"
     ]
    },
    {
     "data": {
      "text/html": [
       "<div>\n",
       "<style scoped>\n",
       "    .dataframe tbody tr th:only-of-type {\n",
       "        vertical-align: middle;\n",
       "    }\n",
       "\n",
       "    .dataframe tbody tr th {\n",
       "        vertical-align: top;\n",
       "    }\n",
       "\n",
       "    .dataframe thead th {\n",
       "        text-align: right;\n",
       "    }\n",
       "</style>\n",
       "<table border=\"1\" class=\"dataframe\">\n",
       "  <thead>\n",
       "    <tr style=\"text-align: right;\">\n",
       "      <th></th>\n",
       "      <th>grade</th>\n",
       "      <th>text</th>\n",
       "      <th>date</th>\n",
       "    </tr>\n",
       "  </thead>\n",
       "  <tbody>\n",
       "    <tr>\n",
       "      <th>0</th>\n",
       "      <td>4</td>\n",
       "      <td>My gf started playing before me. No option to ...</td>\n",
       "      <td>2020-03-20</td>\n",
       "    </tr>\n",
       "    <tr>\n",
       "      <th>1</th>\n",
       "      <td>5</td>\n",
       "      <td>While the game itself is great, really relaxin...</td>\n",
       "      <td>2020-03-20</td>\n",
       "    </tr>\n",
       "    <tr>\n",
       "      <th>2</th>\n",
       "      <td>0</td>\n",
       "      <td>My wife and I were looking forward to playing ...</td>\n",
       "      <td>2020-03-20</td>\n",
       "    </tr>\n",
       "    <tr>\n",
       "      <th>3</th>\n",
       "      <td>0</td>\n",
       "      <td>We need equal values and opportunities for all...</td>\n",
       "      <td>2020-03-20</td>\n",
       "    </tr>\n",
       "    <tr>\n",
       "      <th>4</th>\n",
       "      <td>0</td>\n",
       "      <td>BEWARE!  If you have multiple people in your h...</td>\n",
       "      <td>2020-03-20</td>\n",
       "    </tr>\n",
       "    <tr>\n",
       "      <th>...</th>\n",
       "      <td>...</td>\n",
       "      <td>...</td>\n",
       "      <td>...</td>\n",
       "    </tr>\n",
       "    <tr>\n",
       "      <th>2994</th>\n",
       "      <td>1</td>\n",
       "      <td>1 Island for console limitation.I cannot play ...</td>\n",
       "      <td>2020-05-03</td>\n",
       "    </tr>\n",
       "    <tr>\n",
       "      <th>2995</th>\n",
       "      <td>1</td>\n",
       "      <td>Per giocare con figli o fidanzate, mogli o per...</td>\n",
       "      <td>2020-05-03</td>\n",
       "    </tr>\n",
       "    <tr>\n",
       "      <th>2996</th>\n",
       "      <td>0</td>\n",
       "      <td>One island per console is a pathetic limitatio...</td>\n",
       "      <td>2020-05-03</td>\n",
       "    </tr>\n",
       "    <tr>\n",
       "      <th>2997</th>\n",
       "      <td>2</td>\n",
       "      <td>Even though it seems like a great game with ma...</td>\n",
       "      <td>2020-05-03</td>\n",
       "    </tr>\n",
       "    <tr>\n",
       "      <th>2998</th>\n",
       "      <td>4</td>\n",
       "      <td>Game is fantastic.Nintendo deciding that you c...</td>\n",
       "      <td>2020-05-03</td>\n",
       "    </tr>\n",
       "  </tbody>\n",
       "</table>\n",
       "<p>2999 rows × 3 columns</p>\n",
       "</div>"
      ],
      "text/plain": [
       "      grade                                               text        date\n",
       "0         4  My gf started playing before me. No option to ...  2020-03-20\n",
       "1         5  While the game itself is great, really relaxin...  2020-03-20\n",
       "2         0  My wife and I were looking forward to playing ...  2020-03-20\n",
       "3         0  We need equal values and opportunities for all...  2020-03-20\n",
       "4         0  BEWARE!  If you have multiple people in your h...  2020-03-20\n",
       "...     ...                                                ...         ...\n",
       "2994      1  1 Island for console limitation.I cannot play ...  2020-05-03\n",
       "2995      1  Per giocare con figli o fidanzate, mogli o per...  2020-05-03\n",
       "2996      0  One island per console is a pathetic limitatio...  2020-05-03\n",
       "2997      2  Even though it seems like a great game with ma...  2020-05-03\n",
       "2998      4  Game is fantastic.Nintendo deciding that you c...  2020-05-03\n",
       "\n",
       "[2999 rows x 3 columns]"
      ]
     },
     "execution_count": 3,
     "metadata": {},
     "output_type": "execute_result"
    }
   ],
   "source": [
    "user_df = user_df.drop(['user_name'], axis=1)\n",
    "print(user_df.info())\n",
    "user_df"
   ]
  },
  {
   "cell_type": "markdown",
   "metadata": {},
   "source": [
    "Looking at a distribution of scores that the users gave the game within the time range of these reviews (March 2020-May 2020), it seems that the reviews were heavily polarized; a majority of users seemed to either love or hate the game."
   ]
  },
  {
   "cell_type": "code",
   "execution_count": 4,
   "metadata": {},
   "outputs": [
    {
     "data": {
      "text/plain": [
       "<AxesSubplot:>"
      ]
     },
     "execution_count": 4,
     "metadata": {},
     "output_type": "execute_result"
    },
    {
     "data": {
      "image/png": "[encoded data removed]",
      "text/plain": [
       "<Figure size 432x288 with 1 Axes>"
      ]
     },
     "metadata": {
      "needs_background": "light"
     },
     "output_type": "display_data"
    }
   ],
   "source": [
    "user_df['grade'].hist()"
   ]
  },
  {
   "cell_type": "markdown",
   "metadata": {},
   "source": [
    "### Tokenization with NLTK"
   ]
  },
  {
   "cell_type": "markdown",
   "metadata": {},
   "source": [
    "Tokenizing text"
   ]
  },
  {
   "cell_type": "code",
   "execution_count": 5,
   "metadata": {},
   "outputs": [
    {
     "data": {
      "text/plain": [
       "0       [My, gf, started, playing, before, me, No, opt...\n",
       "1       [While, the, game, itself, is, great, really, ...\n",
       "2       [My, wife, and, I, were, looking, forward, to,...\n",
       "3       [We, need, equal, values, and, opportunities, ...\n",
       "4       [BEWARE, If, you, have, multiple, people, in, ...\n",
       "                              ...                        \n",
       "2994    [Island, for, console, limitation, I, cannot, ...\n",
       "2995    [Per, giocare, con, figli, o, fidanzate, mogli...\n",
       "2996    [One, island, per, console, is, a, pathetic, l...\n",
       "2997    [Even, though, it, seems, like, a, great, game...\n",
       "2998    [Game, is, fantastic, Nintendo, deciding, that...\n",
       "Name: tokens_raw, Length: 2999, dtype: object"
      ]
     },
     "execution_count": 5,
     "metadata": {},
     "output_type": "execute_result"
    }
   ],
   "source": [
    "pattern = \"([a-zA-Z]+(?:'[a-z]+)?)\" # defining pattern so tokenizer recognizes apostrophes as one word\n",
    "\n",
    "user_df['tokens_raw'] = [regexp_tokenize(text, pattern) for text in user_df['text']]\n",
    "\n",
    "user_df['tokens_raw']"
   ]
  },
  {
   "cell_type": "markdown",
   "metadata": {},
   "source": [
    "Lowercasing text"
   ]
  },
  {
   "cell_type": "code",
   "execution_count": 6,
   "metadata": {},
   "outputs": [
    {
     "data": {
      "text/html": [
       "<div>\n",
       "<style scoped>\n",
       "    .dataframe tbody tr th:only-of-type {\n",
       "        vertical-align: middle;\n",
       "    }\n",
       "\n",
       "    .dataframe tbody tr th {\n",
       "        vertical-align: top;\n",
       "    }\n",
       "\n",
       "    .dataframe thead th {\n",
       "        text-align: right;\n",
       "    }\n",
       "</style>\n",
       "<table border=\"1\" class=\"dataframe\">\n",
       "  <thead>\n",
       "    <tr style=\"text-align: right;\">\n",
       "      <th></th>\n",
       "      <th>grade</th>\n",
       "      <th>text</th>\n",
       "      <th>date</th>\n",
       "      <th>tokens_raw</th>\n",
       "      <th>tokens</th>\n",
       "    </tr>\n",
       "  </thead>\n",
       "  <tbody>\n",
       "    <tr>\n",
       "      <th>0</th>\n",
       "      <td>4</td>\n",
       "      <td>My gf started playing before me. No option to ...</td>\n",
       "      <td>2020-03-20</td>\n",
       "      <td>[My, gf, started, playing, before, me, No, opt...</td>\n",
       "      <td>[my, gf, started, playing, before, me, no, opt...</td>\n",
       "    </tr>\n",
       "    <tr>\n",
       "      <th>1</th>\n",
       "      <td>5</td>\n",
       "      <td>While the game itself is great, really relaxin...</td>\n",
       "      <td>2020-03-20</td>\n",
       "      <td>[While, the, game, itself, is, great, really, ...</td>\n",
       "      <td>[while, the, game, itself, is, great, really, ...</td>\n",
       "    </tr>\n",
       "    <tr>\n",
       "      <th>2</th>\n",
       "      <td>0</td>\n",
       "      <td>My wife and I were looking forward to playing ...</td>\n",
       "      <td>2020-03-20</td>\n",
       "      <td>[My, wife, and, I, were, looking, forward, to,...</td>\n",
       "      <td>[my, wife, and, i, were, looking, forward, to,...</td>\n",
       "    </tr>\n",
       "    <tr>\n",
       "      <th>3</th>\n",
       "      <td>0</td>\n",
       "      <td>We need equal values and opportunities for all...</td>\n",
       "      <td>2020-03-20</td>\n",
       "      <td>[We, need, equal, values, and, opportunities, ...</td>\n",
       "      <td>[we, need, equal, values, and, opportunities, ...</td>\n",
       "    </tr>\n",
       "    <tr>\n",
       "      <th>4</th>\n",
       "      <td>0</td>\n",
       "      <td>BEWARE!  If you have multiple people in your h...</td>\n",
       "      <td>2020-03-20</td>\n",
       "      <td>[BEWARE, If, you, have, multiple, people, in, ...</td>\n",
       "      <td>[beware, if, you, have, multiple, people, in, ...</td>\n",
       "    </tr>\n",
       "  </tbody>\n",
       "</table>\n",
       "</div>"
      ],
      "text/plain": [
       "   grade                                               text        date  \\\n",
       "0      4  My gf started playing before me. No option to ...  2020-03-20   \n",
       "1      5  While the game itself is great, really relaxin...  2020-03-20   \n",
       "2      0  My wife and I were looking forward to playing ...  2020-03-20   \n",
       "3      0  We need equal values and opportunities for all...  2020-03-20   \n",
       "4      0  BEWARE!  If you have multiple people in your h...  2020-03-20   \n",
       "\n",
       "                                          tokens_raw  \\\n",
       "0  [My, gf, started, playing, before, me, No, opt...   \n",
       "1  [While, the, game, itself, is, great, really, ...   \n",
       "2  [My, wife, and, I, were, looking, forward, to,...   \n",
       "3  [We, need, equal, values, and, opportunities, ...   \n",
       "4  [BEWARE, If, you, have, multiple, people, in, ...   \n",
       "\n",
       "                                              tokens  \n",
       "0  [my, gf, started, playing, before, me, no, opt...  \n",
       "1  [while, the, game, itself, is, great, really, ...  \n",
       "2  [my, wife, and, i, were, looking, forward, to,...  \n",
       "3  [we, need, equal, values, and, opportunities, ...  \n",
       "4  [beware, if, you, have, multiple, people, in, ...  "
      ]
     },
     "execution_count": 6,
     "metadata": {},
     "output_type": "execute_result"
    }
   ],
   "source": [
    "user_df['tokens'] = user_df['tokens_raw'].apply(lambda x: [word.lower() for word in x])\n",
    "user_df.head()"
   ]
  },
  {
   "cell_type": "markdown",
   "metadata": {},
   "source": [
    "Removing stopwords"
   ]
  },
  {
   "cell_type": "code",
   "execution_count": 7,
   "metadata": {},
   "outputs": [
    {
     "data": {
      "text/html": [
       "<div>\n",
       "<style scoped>\n",
       "    .dataframe tbody tr th:only-of-type {\n",
       "        vertical-align: middle;\n",
       "    }\n",
       "\n",
       "    .dataframe tbody tr th {\n",
       "        vertical-align: top;\n",
       "    }\n",
       "\n",
       "    .dataframe thead th {\n",
       "        text-align: right;\n",
       "    }\n",
       "</style>\n",
       "<table border=\"1\" class=\"dataframe\">\n",
       "  <thead>\n",
       "    <tr style=\"text-align: right;\">\n",
       "      <th></th>\n",
       "      <th>grade</th>\n",
       "      <th>text</th>\n",
       "      <th>date</th>\n",
       "      <th>tokens_raw</th>\n",
       "      <th>tokens</th>\n",
       "      <th>no_stops</th>\n",
       "    </tr>\n",
       "  </thead>\n",
       "  <tbody>\n",
       "    <tr>\n",
       "      <th>0</th>\n",
       "      <td>4</td>\n",
       "      <td>My gf started playing before me. No option to ...</td>\n",
       "      <td>2020-03-20</td>\n",
       "      <td>[My, gf, started, playing, before, me, No, opt...</td>\n",
       "      <td>[my, gf, started, playing, before, me, no, opt...</td>\n",
       "      <td>[gf, started, playing, option, create, island,...</td>\n",
       "    </tr>\n",
       "    <tr>\n",
       "      <th>1</th>\n",
       "      <td>5</td>\n",
       "      <td>While the game itself is great, really relaxin...</td>\n",
       "      <td>2020-03-20</td>\n",
       "      <td>[While, the, game, itself, is, great, really, ...</td>\n",
       "      <td>[while, the, game, itself, is, great, really, ...</td>\n",
       "      <td>[great, really, relaxing, gorgeous, can't, ign...</td>\n",
       "    </tr>\n",
       "    <tr>\n",
       "      <th>2</th>\n",
       "      <td>0</td>\n",
       "      <td>My wife and I were looking forward to playing ...</td>\n",
       "      <td>2020-03-20</td>\n",
       "      <td>[My, wife, and, I, were, looking, forward, to,...</td>\n",
       "      <td>[my, wife, and, i, were, looking, forward, to,...</td>\n",
       "      <td>[wife, looking, forward, playing, released, bo...</td>\n",
       "    </tr>\n",
       "    <tr>\n",
       "      <th>3</th>\n",
       "      <td>0</td>\n",
       "      <td>We need equal values and opportunities for all...</td>\n",
       "      <td>2020-03-20</td>\n",
       "      <td>[We, need, equal, values, and, opportunities, ...</td>\n",
       "      <td>[we, need, equal, values, and, opportunities, ...</td>\n",
       "      <td>[need, equal, values, opportunities, players, ...</td>\n",
       "    </tr>\n",
       "    <tr>\n",
       "      <th>4</th>\n",
       "      <td>0</td>\n",
       "      <td>BEWARE!  If you have multiple people in your h...</td>\n",
       "      <td>2020-03-20</td>\n",
       "      <td>[BEWARE, If, you, have, multiple, people, in, ...</td>\n",
       "      <td>[beware, if, you, have, multiple, people, in, ...</td>\n",
       "      <td>[beware, multiple, people, house, want, play, ...</td>\n",
       "    </tr>\n",
       "  </tbody>\n",
       "</table>\n",
       "</div>"
      ],
      "text/plain": [
       "   grade                                               text        date  \\\n",
       "0      4  My gf started playing before me. No option to ...  2020-03-20   \n",
       "1      5  While the game itself is great, really relaxin...  2020-03-20   \n",
       "2      0  My wife and I were looking forward to playing ...  2020-03-20   \n",
       "3      0  We need equal values and opportunities for all...  2020-03-20   \n",
       "4      0  BEWARE!  If you have multiple people in your h...  2020-03-20   \n",
       "\n",
       "                                          tokens_raw  \\\n",
       "0  [My, gf, started, playing, before, me, No, opt...   \n",
       "1  [While, the, game, itself, is, great, really, ...   \n",
       "2  [My, wife, and, I, were, looking, forward, to,...   \n",
       "3  [We, need, equal, values, and, opportunities, ...   \n",
       "4  [BEWARE, If, you, have, multiple, people, in, ...   \n",
       "\n",
       "                                              tokens  \\\n",
       "0  [my, gf, started, playing, before, me, no, opt...   \n",
       "1  [while, the, game, itself, is, great, really, ...   \n",
       "2  [my, wife, and, i, were, looking, forward, to,...   \n",
       "3  [we, need, equal, values, and, opportunities, ...   \n",
       "4  [beware, if, you, have, multiple, people, in, ...   \n",
       "\n",
       "                                            no_stops  \n",
       "0  [gf, started, playing, option, create, island,...  \n",
       "1  [great, really, relaxing, gorgeous, can't, ign...  \n",
       "2  [wife, looking, forward, playing, released, bo...  \n",
       "3  [need, equal, values, opportunities, players, ...  \n",
       "4  [beware, multiple, people, house, want, play, ...  "
      ]
     },
     "execution_count": 7,
     "metadata": {},
     "output_type": "execute_result"
    }
   ],
   "source": [
    "stopwords_list = stopwords.words('english')\n",
    "stopwords_list += list(string.punctuation)\n",
    "stopwords_list += ['game', 'animal', 'crossing']\n",
    "user_df['no_stops'] = user_df['tokens'].apply(lambda x: [w for w in x if w not in stopwords_list])\n",
    "\n",
    "user_df.head()"
   ]
  },
  {
   "cell_type": "markdown",
   "metadata": {},
   "source": [
    "Creating frequency distribution of words among reviews"
   ]
  },
  {
   "cell_type": "code",
   "execution_count": 8,
   "metadata": {},
   "outputs": [
    {
     "data": {
      "image/png": "[encoded data removed]",
      "text/plain": [
       "<Figure size 432x288 with 1 Axes>"
      ]
     },
     "metadata": {
      "needs_background": "light"
     },
     "output_type": "display_data"
    },
    {
     "data": {
      "text/plain": [
       "<AxesSubplot:title={'center':'Most common words'}, xlabel='Samples', ylabel='Counts'>"
      ]
     },
     "execution_count": 8,
     "metadata": {},
     "output_type": "execute_result"
    }
   ],
   "source": [
    "# for token_list in user_df['no_stops']:\n",
    "#     token_list = ' '.join(token_list)\n",
    "#     token_list = token_list.split(' ')\n",
    "test = user_df.no_stops.explode().to_list()\n",
    "fdist = FreqDist(test)\n",
    "fdist.plot(30, title='Most common words')\n",
    "\n",
    "# # user_freqdist = FreqDist(user_df['tokens_raw'])\n",
    "# # user_freqdist.most_common(50)"
   ]
  },
  {
   "cell_type": "markdown",
   "metadata": {},
   "source": [
    "### Labeling the data"
   ]
  },
  {
   "cell_type": "markdown",
   "metadata": {},
   "source": [
    "Assigning \"positive\" and \"negative\" labels to data based on score threshold defined on Metacritic's review page for this game. For reference:\n",
    "- 8-10 is \"positive\"\n",
    "- 5-7 is \"neutral\"\n",
    "- 0-4 is \"negative\"\n",
    "\n",
    "https://www.metacritic.com/game/switch/animal-crossing-new-horizons/user-reviews"
   ]
  },
  {
   "cell_type": "code",
   "execution_count": 9,
   "metadata": {},
   "outputs": [],
   "source": [
    "def sentiment_labels(row):\n",
    "    if row['grade'] >= 8:\n",
    "        val = 'positive'\n",
    "    elif row['grade'] <= 4:\n",
    "        val = 'negative'\n",
    "    else:\n",
    "        val = 'neutral'\n",
    "    return val"
   ]
  },
  {
   "cell_type": "code",
   "execution_count": 10,
   "metadata": {},
   "outputs": [
    {
     "data": {
      "text/html": [
       "<div>\n",
       "<style scoped>\n",
       "    .dataframe tbody tr th:only-of-type {\n",
       "        vertical-align: middle;\n",
       "    }\n",
       "\n",
       "    .dataframe tbody tr th {\n",
       "        vertical-align: top;\n",
       "    }\n",
       "\n",
       "    .dataframe thead th {\n",
       "        text-align: right;\n",
       "    }\n",
       "</style>\n",
       "<table border=\"1\" class=\"dataframe\">\n",
       "  <thead>\n",
       "    <tr style=\"text-align: right;\">\n",
       "      <th></th>\n",
       "      <th>grade</th>\n",
       "      <th>text</th>\n",
       "      <th>date</th>\n",
       "      <th>tokens_raw</th>\n",
       "      <th>tokens</th>\n",
       "      <th>no_stops</th>\n",
       "      <th>sentiment</th>\n",
       "    </tr>\n",
       "  </thead>\n",
       "  <tbody>\n",
       "    <tr>\n",
       "      <th>0</th>\n",
       "      <td>4</td>\n",
       "      <td>My gf started playing before me. No option to ...</td>\n",
       "      <td>2020-03-20</td>\n",
       "      <td>[My, gf, started, playing, before, me, No, opt...</td>\n",
       "      <td>[my, gf, started, playing, before, me, no, opt...</td>\n",
       "      <td>[gf, started, playing, option, create, island,...</td>\n",
       "      <td>negative</td>\n",
       "    </tr>\n",
       "    <tr>\n",
       "      <th>1</th>\n",
       "      <td>5</td>\n",
       "      <td>While the game itself is great, really relaxin...</td>\n",
       "      <td>2020-03-20</td>\n",
       "      <td>[While, the, game, itself, is, great, really, ...</td>\n",
       "      <td>[while, the, game, itself, is, great, really, ...</td>\n",
       "      <td>[great, really, relaxing, gorgeous, can't, ign...</td>\n",
       "      <td>neutral</td>\n",
       "    </tr>\n",
       "    <tr>\n",
       "      <th>2</th>\n",
       "      <td>0</td>\n",
       "      <td>My wife and I were looking forward to playing ...</td>\n",
       "      <td>2020-03-20</td>\n",
       "      <td>[My, wife, and, I, were, looking, forward, to,...</td>\n",
       "      <td>[my, wife, and, i, were, looking, forward, to,...</td>\n",
       "      <td>[wife, looking, forward, playing, released, bo...</td>\n",
       "      <td>negative</td>\n",
       "    </tr>\n",
       "    <tr>\n",
       "      <th>3</th>\n",
       "      <td>0</td>\n",
       "      <td>We need equal values and opportunities for all...</td>\n",
       "      <td>2020-03-20</td>\n",
       "      <td>[We, need, equal, values, and, opportunities, ...</td>\n",
       "      <td>[we, need, equal, values, and, opportunities, ...</td>\n",
       "      <td>[need, equal, values, opportunities, players, ...</td>\n",
       "      <td>negative</td>\n",
       "    </tr>\n",
       "    <tr>\n",
       "      <th>4</th>\n",
       "      <td>0</td>\n",
       "      <td>BEWARE!  If you have multiple people in your h...</td>\n",
       "      <td>2020-03-20</td>\n",
       "      <td>[BEWARE, If, you, have, multiple, people, in, ...</td>\n",
       "      <td>[beware, if, you, have, multiple, people, in, ...</td>\n",
       "      <td>[beware, multiple, people, house, want, play, ...</td>\n",
       "      <td>negative</td>\n",
       "    </tr>\n",
       "    <tr>\n",
       "      <th>...</th>\n",
       "      <td>...</td>\n",
       "      <td>...</td>\n",
       "      <td>...</td>\n",
       "      <td>...</td>\n",
       "      <td>...</td>\n",
       "      <td>...</td>\n",
       "      <td>...</td>\n",
       "    </tr>\n",
       "    <tr>\n",
       "      <th>2994</th>\n",
       "      <td>1</td>\n",
       "      <td>1 Island for console limitation.I cannot play ...</td>\n",
       "      <td>2020-05-03</td>\n",
       "      <td>[Island, for, console, limitation, I, cannot, ...</td>\n",
       "      <td>[island, for, console, limitation, i, cannot, ...</td>\n",
       "      <td>[island, console, limitation, cannot, play, gi...</td>\n",
       "      <td>negative</td>\n",
       "    </tr>\n",
       "    <tr>\n",
       "      <th>2995</th>\n",
       "      <td>1</td>\n",
       "      <td>Per giocare con figli o fidanzate, mogli o per...</td>\n",
       "      <td>2020-05-03</td>\n",
       "      <td>[Per, giocare, con, figli, o, fidanzate, mogli...</td>\n",
       "      <td>[per, giocare, con, figli, o, fidanzate, mogli...</td>\n",
       "      <td>[per, giocare, con, figli, fidanzate, mogli, p...</td>\n",
       "      <td>negative</td>\n",
       "    </tr>\n",
       "    <tr>\n",
       "      <th>2996</th>\n",
       "      <td>0</td>\n",
       "      <td>One island per console is a pathetic limitatio...</td>\n",
       "      <td>2020-05-03</td>\n",
       "      <td>[One, island, per, console, is, a, pathetic, l...</td>\n",
       "      <td>[one, island, per, console, is, a, pathetic, l...</td>\n",
       "      <td>[one, island, per, console, pathetic, limitati...</td>\n",
       "      <td>negative</td>\n",
       "    </tr>\n",
       "    <tr>\n",
       "      <th>2997</th>\n",
       "      <td>2</td>\n",
       "      <td>Even though it seems like a great game with ma...</td>\n",
       "      <td>2020-05-03</td>\n",
       "      <td>[Even, though, it, seems, like, a, great, game...</td>\n",
       "      <td>[even, though, it, seems, like, a, great, game...</td>\n",
       "      <td>[even, though, seems, like, great, many, items...</td>\n",
       "      <td>negative</td>\n",
       "    </tr>\n",
       "    <tr>\n",
       "      <th>2998</th>\n",
       "      <td>4</td>\n",
       "      <td>Game is fantastic.Nintendo deciding that you c...</td>\n",
       "      <td>2020-05-03</td>\n",
       "      <td>[Game, is, fantastic, Nintendo, deciding, that...</td>\n",
       "      <td>[game, is, fantastic, nintendo, deciding, that...</td>\n",
       "      <td>[fantastic, nintendo, deciding, make, one, isl...</td>\n",
       "      <td>negative</td>\n",
       "    </tr>\n",
       "  </tbody>\n",
       "</table>\n",
       "<p>2999 rows × 7 columns</p>\n",
       "</div>"
      ],
      "text/plain": [
       "      grade                                               text        date  \\\n",
       "0         4  My gf started playing before me. No option to ...  2020-03-20   \n",
       "1         5  While the game itself is great, really relaxin...  2020-03-20   \n",
       "2         0  My wife and I were looking forward to playing ...  2020-03-20   \n",
       "3         0  We need equal values and opportunities for all...  2020-03-20   \n",
       "4         0  BEWARE!  If you have multiple people in your h...  2020-03-20   \n",
       "...     ...                                                ...         ...   \n",
       "2994      1  1 Island for console limitation.I cannot play ...  2020-05-03   \n",
       "2995      1  Per giocare con figli o fidanzate, mogli o per...  2020-05-03   \n",
       "2996      0  One island per console is a pathetic limitatio...  2020-05-03   \n",
       "2997      2  Even though it seems like a great game with ma...  2020-05-03   \n",
       "2998      4  Game is fantastic.Nintendo deciding that you c...  2020-05-03   \n",
       "\n",
       "                                             tokens_raw  \\\n",
       "0     [My, gf, started, playing, before, me, No, opt...   \n",
       "1     [While, the, game, itself, is, great, really, ...   \n",
       "2     [My, wife, and, I, were, looking, forward, to,...   \n",
       "3     [We, need, equal, values, and, opportunities, ...   \n",
       "4     [BEWARE, If, you, have, multiple, people, in, ...   \n",
       "...                                                 ...   \n",
       "2994  [Island, for, console, limitation, I, cannot, ...   \n",
       "2995  [Per, giocare, con, figli, o, fidanzate, mogli...   \n",
       "2996  [One, island, per, console, is, a, pathetic, l...   \n",
       "2997  [Even, though, it, seems, like, a, great, game...   \n",
       "2998  [Game, is, fantastic, Nintendo, deciding, that...   \n",
       "\n",
       "                                                 tokens  \\\n",
       "0     [my, gf, started, playing, before, me, no, opt...   \n",
       "1     [while, the, game, itself, is, great, really, ...   \n",
       "2     [my, wife, and, i, were, looking, forward, to,...   \n",
       "3     [we, need, equal, values, and, opportunities, ...   \n",
       "4     [beware, if, you, have, multiple, people, in, ...   \n",
       "...                                                 ...   \n",
       "2994  [island, for, console, limitation, i, cannot, ...   \n",
       "2995  [per, giocare, con, figli, o, fidanzate, mogli...   \n",
       "2996  [one, island, per, console, is, a, pathetic, l...   \n",
       "2997  [even, though, it, seems, like, a, great, game...   \n",
       "2998  [game, is, fantastic, nintendo, deciding, that...   \n",
       "\n",
       "                                               no_stops sentiment  \n",
       "0     [gf, started, playing, option, create, island,...  negative  \n",
       "1     [great, really, relaxing, gorgeous, can't, ign...   neutral  \n",
       "2     [wife, looking, forward, playing, released, bo...  negative  \n",
       "3     [need, equal, values, opportunities, players, ...  negative  \n",
       "4     [beware, multiple, people, house, want, play, ...  negative  \n",
       "...                                                 ...       ...  \n",
       "2994  [island, console, limitation, cannot, play, gi...  negative  \n",
       "2995  [per, giocare, con, figli, fidanzate, mogli, p...  negative  \n",
       "2996  [one, island, per, console, pathetic, limitati...  negative  \n",
       "2997  [even, though, seems, like, great, many, items...  negative  \n",
       "2998  [fantastic, nintendo, deciding, make, one, isl...  negative  \n",
       "\n",
       "[2999 rows x 7 columns]"
      ]
     },
     "execution_count": 10,
     "metadata": {},
     "output_type": "execute_result"
    }
   ],
   "source": [
    "user_df['sentiment'] = user_df.apply(sentiment_labels, axis=1)\n",
    "user_df"
   ]
  },
  {
   "cell_type": "markdown",
   "metadata": {},
   "source": [
    "Investigating class balance"
   ]
  },
  {
   "cell_type": "code",
   "execution_count": 11,
   "metadata": {},
   "outputs": [
    {
     "data": {
      "text/plain": [
       "negative    1747\n",
       "positive    1096\n",
       "neutral      156\n",
       "Name: sentiment, dtype: int64"
      ]
     },
     "execution_count": 11,
     "metadata": {},
     "output_type": "execute_result"
    }
   ],
   "source": [
    "user_df['sentiment'].value_counts()"
   ]
  },
  {
   "cell_type": "code",
   "execution_count": 12,
   "metadata": {},
   "outputs": [
    {
     "data": {
      "text/plain": [
       "negative    0.582528\n",
       "positive    0.365455\n",
       "neutral     0.052017\n",
       "Name: sentiment, dtype: float64"
      ]
     },
     "execution_count": 12,
     "metadata": {},
     "output_type": "execute_result"
    }
   ],
   "source": [
    "user_df['sentiment'].value_counts(normalize=True)"
   ]
  },
  {
   "cell_type": "markdown",
   "metadata": {},
   "source": [
    "Significant class imbalance, there are far more negative reviews than positive/neutral."
   ]
  },
  {
   "cell_type": "code",
   "execution_count": 13,
   "metadata": {},
   "outputs": [
    {
     "data": {
      "text/plain": [
       "<AxesSubplot:>"
      ]
     },
     "execution_count": 13,
     "metadata": {},
     "output_type": "execute_result"
    },
    {
     "data": {
      "image/png": "[encoded data removed]",
      "text/plain": [
       "<Figure size 432x288 with 1 Axes>"
      ]
     },
     "metadata": {
      "needs_background": "light"
     },
     "output_type": "display_data"
    }
   ],
   "source": [
    "user_df['sentiment'].hist()"
   ]
  },
  {
   "cell_type": "markdown",
   "metadata": {},
   "source": [
    "## Preprocessing"
   ]
  },
  {
   "cell_type": "markdown",
   "metadata": {},
   "source": [
    "Lemmatizing words"
   ]
  },
  {
   "cell_type": "code",
   "execution_count": 14,
   "metadata": {},
   "outputs": [
    {
     "data": {
      "text/plain": [
       "0       [gf, started, playing, option, create, island,...\n",
       "1       [great, really, relaxing, gorgeous, can't, ign...\n",
       "2       [wife, looking, forward, playing, released, bo...\n",
       "3       [need, equal, value, opportunity, player, isla...\n",
       "4       [beware, multiple, people, house, want, play, ...\n",
       "                              ...                        \n",
       "2994    [island, console, limitation, cannot, play, gi...\n",
       "2995    [per, giocare, con, figli, fidanzate, mogli, p...\n",
       "2996    [one, island, per, console, pathetic, limitati...\n",
       "2997    [even, though, seems, like, great, many, item,...\n",
       "2998    [fantastic, nintendo, deciding, make, one, isl...\n",
       "Name: lemmatized, Length: 2999, dtype: object"
      ]
     },
     "execution_count": 14,
     "metadata": {},
     "output_type": "execute_result"
    }
   ],
   "source": [
    "lemmatizer = WordNetLemmatizer()\n",
    "user_df['lemmatized'] = user_df['no_stops'].apply(lambda x:[lemmatizer.lemmatize(w) for w in x])\n",
    "user_df['lemmatized']"
   ]
  },
  {
   "cell_type": "markdown",
   "metadata": {},
   "source": [
    "Training and test set split"
   ]
  },
  {
   "cell_type": "code",
   "execution_count": 15,
   "metadata": {},
   "outputs": [],
   "source": [
    "X = user_df['lemmatized'].str.join(' ')\n",
    "y = user_df['sentiment']\n",
    "\n",
    "X_train, X_test, y_train, y_test = train_test_split(X, y, test_size=0.2, random_state=123)"
   ]
  },
  {
   "cell_type": "markdown",
   "metadata": {},
   "source": [
    "## Analysis"
   ]
  },
  {
   "cell_type": "markdown",
   "metadata": {},
   "source": [
    "- TF-IDF vectorizer to convert our text data into binary vectors that our classifiers can process\n",
    "- Because our categories are imbalanced, to prevent overfitting we resample our data using SMOTE and define a sampling strategy to ensure SMOTE resamples all classes except our majority class\n",
    "- Pipeline is created to prevent data leakage\n",
    "- Model is scored by cross-validation and recall (we want to identify how well model is able to predict true positives)"
   ]
  },
  {
   "cell_type": "code",
   "execution_count": 16,
   "metadata": {},
   "outputs": [],
   "source": [
    "def text_classification(model):\n",
    "    \"\"\"\n",
    "    Takes in a scikit-learn classifier and runs a model\n",
    "    based on the training data provided. Returns cross-validated\n",
    "    scores and an average score rating the performance of the model.\n",
    "    Also returns a confusion matrix as a visual representation\n",
    "    of the model's accuracy.\n",
    "    \"\"\"\n",
    "    tfidf_vectorizer = TfidfVectorizer()\n",
    "    smote = SMOTE(sampling_strategy='not majority')\n",
    "    \n",
    "    pipeline = make_pipeline(tfidf_vectorizer, smote, model)\n",
    "    \n",
    "    scores = cross_val_score(pipeline, X_train, y_train)\n",
    "    print('Cross-validated scores:', scores.round(3))\n",
    "    print('Average CV score:', np.mean(scores).round(3))\n",
    "    \n",
    "    pipeline.fit(X_train, y_train)\n",
    "    y_preds = pipeline.predict(X_test)\n",
    "    print('Recall score:', recall_score(y_test, y_preds, average='micro').round(3))\n",
    "    \n",
    "    plot_confusion_matrix(pipeline, X_test, y_test)\n",
    "    \n",
    "    return pipeline"
   ]
  },
  {
   "cell_type": "markdown",
   "metadata": {},
   "source": [
    "First model is simple machine learning model, logistic regression model\n",
    "\n",
    "https://scikit-learn.org/stable/modules/generated/sklearn.linear_model.LogisticRegression.html"
   ]
  },
  {
   "cell_type": "code",
   "execution_count": 17,
   "metadata": {},
   "outputs": [
    {
     "name": "stdout",
     "output_type": "stream",
     "text": [
      "Cross-validated scores: [0.829 0.838 0.804 0.821 0.831]\n",
      "Average CV score: 0.825\n",
      "Recall score: 0.825\n"
     ]
    },
    {
     "data": {
      "image/png": "[encoded data removed]",
      "text/plain": [
       "<Figure size 432x288 with 2 Axes>"
      ]
     },
     "metadata": {
      "needs_background": "light"
     },
     "output_type": "display_data"
    }
   ],
   "source": [
    "logreg_model = LogisticRegression()\n",
    "logreg_pipe = text_classification(logreg_model)"
   ]
  },
  {
   "cell_type": "markdown",
   "metadata": {},
   "source": [
    "Next model is Naive Bayes, goes off of statistical Bayes' theorem. There are multiple iterations of the Naive Bayes classifier, multinomial Naive Bayes is the most suitable for text classification\n",
    "\n",
    "https://scikit-learn.org/stable/modules/generated/sklearn.naive_bayes.MultinomialNB.html"
   ]
  },
  {
   "cell_type": "code",
   "execution_count": 18,
   "metadata": {},
   "outputs": [
    {
     "name": "stdout",
     "output_type": "stream",
     "text": [
      "Cross-validated scores: [0.673 0.696 0.65  0.742 0.724]\n",
      "Average CV score: 0.697\n",
      "Recall score: 0.683\n"
     ]
    },
    {
     "data": {
      "image/png": "[encoded data removed]",
      "text/plain": [
       "<Figure size 432x288 with 2 Axes>"
      ]
     },
     "metadata": {
      "needs_background": "light"
     },
     "output_type": "display_data"
    }
   ],
   "source": [
    "mnb_model = MultinomialNB()\n",
    "mnb_pipe = text_classification(mnb_model)"
   ]
  },
  {
   "cell_type": "markdown",
   "metadata": {},
   "source": [
    "Decision tree classifier\n",
    "- Another simple classifier that revolves around the idea of predicting the value of a target variable using decision rules inferred from the data features. The concept of this model matches well with the idea behind our model (using key words to predict the sentiment of a review)\n",
    "\n",
    "https://scikit-learn.org/stable/modules/tree.html"
   ]
  },
  {
   "cell_type": "code",
   "execution_count": 19,
   "metadata": {},
   "outputs": [
    {
     "name": "stdout",
     "output_type": "stream",
     "text": [
      "Cross-validated scores: [0.66  0.631 0.592 0.71  0.645]\n",
      "Average CV score: 0.648\n",
      "Recall score: 0.645\n"
     ]
    },
    {
     "data": {
      "image/png": "[encoded data removed]",
      "text/plain": [
       "<Figure size 432x288 with 2 Axes>"
      ]
     },
     "metadata": {
      "needs_background": "light"
     },
     "output_type": "display_data"
    }
   ],
   "source": [
    "dt_model = DecisionTreeClassifier(max_depth=5)\n",
    "dt_pipe = text_classification(dt_model)"
   ]
  },
  {
   "cell_type": "markdown",
   "metadata": {},
   "source": [
    "Random forest classifier (averaged ensemble of decision trees). Did better than decision tree model, however is not as good as logreg model.\n",
    "- Ensemble method; derives from decision tree classifier. Unlike decision tree classifier, which creates a tree from the whole dataset, random forest takes subsets of the training set to create individual trees and averages all the trees to produce the most optimal predictive ability.\n",
    "\n",
    "https://scikit-learn.org/stable/modules/generated/sklearn.ensemble.RandomForestClassifier.html"
   ]
  },
  {
   "cell_type": "code",
   "execution_count": 20,
   "metadata": {},
   "outputs": [
    {
     "name": "stdout",
     "output_type": "stream",
     "text": [
      "Cross-validated scores: [0.771 0.802 0.785 0.833 0.814]\n",
      "Average CV score: 0.801\n",
      "Recall score: 0.82\n"
     ]
    },
    {
     "data": {
      "image/png": "[encoded data removed]",
      "text/plain": [
       "<Figure size 432x288 with 2 Axes>"
      ]
     },
     "metadata": {
      "needs_background": "light"
     },
     "output_type": "display_data"
    }
   ],
   "source": [
    "rf_model = RandomForestClassifier()\n",
    "rf_pipe = text_classification(rf_model)"
   ]
  },
  {
   "cell_type": "markdown",
   "metadata": {},
   "source": [
    "### Optimization"
   ]
  },
  {
   "cell_type": "markdown",
   "metadata": {},
   "source": [
    "Grid search to find optimal parameters for best model. We will be performing a grid search on logistic regression model and random forest; had best cross-validation and recall scores. Even though logistic regression model slightly outperforms random forest, I am interested in seeing if an opimized random forest model will outperform an optimized logistic regression model.\n",
    "\n",
    "To create the parameter grids to run the grid search on both models, I obtain the names of the parameters in each model and the values at which each parameter was at when the model was ran:"
   ]
  },
  {
   "cell_type": "code",
   "execution_count": 21,
   "metadata": {
    "scrolled": true
   },
   "outputs": [
    {
     "data": {
      "text/plain": [
       "{'memory': None,\n",
       " 'steps': [('tfidfvectorizer', TfidfVectorizer()),\n",
       "  ('smote', SMOTE(sampling_strategy='not majority')),\n",
       "  ('logisticregression', LogisticRegression())],\n",
       " 'verbose': False,\n",
       " 'tfidfvectorizer': TfidfVectorizer(),\n",
       " 'smote': SMOTE(sampling_strategy='not majority'),\n",
       " 'logisticregression': LogisticRegression(),\n",
       " 'tfidfvectorizer__analyzer': 'word',\n",
       " 'tfidfvectorizer__binary': False,\n",
       " 'tfidfvectorizer__decode_error': 'strict',\n",
       " 'tfidfvectorizer__dtype': numpy.float64,\n",
       " 'tfidfvectorizer__encoding': 'utf-8',\n",
       " 'tfidfvectorizer__input': 'content',\n",
       " 'tfidfvectorizer__lowercase': True,\n",
       " 'tfidfvectorizer__max_df': 1.0,\n",
       " 'tfidfvectorizer__max_features': None,\n",
       " 'tfidfvectorizer__min_df': 1,\n",
       " 'tfidfvectorizer__ngram_range': (1, 1),\n",
       " 'tfidfvectorizer__norm': 'l2',\n",
       " 'tfidfvectorizer__preprocessor': None,\n",
       " 'tfidfvectorizer__smooth_idf': True,\n",
       " 'tfidfvectorizer__stop_words': None,\n",
       " 'tfidfvectorizer__strip_accents': None,\n",
       " 'tfidfvectorizer__sublinear_tf': False,\n",
       " 'tfidfvectorizer__token_pattern': '(?u)\\\\b\\\\w\\\\w+\\\\b',\n",
       " 'tfidfvectorizer__tokenizer': None,\n",
       " 'tfidfvectorizer__use_idf': True,\n",
       " 'tfidfvectorizer__vocabulary': None,\n",
       " 'smote__k_neighbors': 5,\n",
       " 'smote__n_jobs': None,\n",
       " 'smote__random_state': None,\n",
       " 'smote__sampling_strategy': 'not majority',\n",
       " 'logisticregression__C': 1.0,\n",
       " 'logisticregression__class_weight': None,\n",
       " 'logisticregression__dual': False,\n",
       " 'logisticregression__fit_intercept': True,\n",
       " 'logisticregression__intercept_scaling': 1,\n",
       " 'logisticregression__l1_ratio': None,\n",
       " 'logisticregression__max_iter': 100,\n",
       " 'logisticregression__multi_class': 'auto',\n",
       " 'logisticregression__n_jobs': None,\n",
       " 'logisticregression__penalty': 'l2',\n",
       " 'logisticregression__random_state': None,\n",
       " 'logisticregression__solver': 'lbfgs',\n",
       " 'logisticregression__tol': 0.0001,\n",
       " 'logisticregression__verbose': 0,\n",
       " 'logisticregression__warm_start': False}"
      ]
     },
     "execution_count": 21,
     "metadata": {},
     "output_type": "execute_result"
    }
   ],
   "source": [
    "logreg_pipe.get_params()"
   ]
  },
  {
   "cell_type": "code",
   "execution_count": 22,
   "metadata": {
    "scrolled": true
   },
   "outputs": [
    {
     "data": {
      "text/plain": [
       "{'memory': None,\n",
       " 'steps': [('tfidfvectorizer', TfidfVectorizer()),\n",
       "  ('smote', SMOTE(sampling_strategy='not majority')),\n",
       "  ('randomforestclassifier', RandomForestClassifier())],\n",
       " 'verbose': False,\n",
       " 'tfidfvectorizer': TfidfVectorizer(),\n",
       " 'smote': SMOTE(sampling_strategy='not majority'),\n",
       " 'randomforestclassifier': RandomForestClassifier(),\n",
       " 'tfidfvectorizer__analyzer': 'word',\n",
       " 'tfidfvectorizer__binary': False,\n",
       " 'tfidfvectorizer__decode_error': 'strict',\n",
       " 'tfidfvectorizer__dtype': numpy.float64,\n",
       " 'tfidfvectorizer__encoding': 'utf-8',\n",
       " 'tfidfvectorizer__input': 'content',\n",
       " 'tfidfvectorizer__lowercase': True,\n",
       " 'tfidfvectorizer__max_df': 1.0,\n",
       " 'tfidfvectorizer__max_features': None,\n",
       " 'tfidfvectorizer__min_df': 1,\n",
       " 'tfidfvectorizer__ngram_range': (1, 1),\n",
       " 'tfidfvectorizer__norm': 'l2',\n",
       " 'tfidfvectorizer__preprocessor': None,\n",
       " 'tfidfvectorizer__smooth_idf': True,\n",
       " 'tfidfvectorizer__stop_words': None,\n",
       " 'tfidfvectorizer__strip_accents': None,\n",
       " 'tfidfvectorizer__sublinear_tf': False,\n",
       " 'tfidfvectorizer__token_pattern': '(?u)\\\\b\\\\w\\\\w+\\\\b',\n",
       " 'tfidfvectorizer__tokenizer': None,\n",
       " 'tfidfvectorizer__use_idf': True,\n",
       " 'tfidfvectorizer__vocabulary': None,\n",
       " 'smote__k_neighbors': 5,\n",
       " 'smote__n_jobs': None,\n",
       " 'smote__random_state': None,\n",
       " 'smote__sampling_strategy': 'not majority',\n",
       " 'randomforestclassifier__bootstrap': True,\n",
       " 'randomforestclassifier__ccp_alpha': 0.0,\n",
       " 'randomforestclassifier__class_weight': None,\n",
       " 'randomforestclassifier__criterion': 'gini',\n",
       " 'randomforestclassifier__max_depth': None,\n",
       " 'randomforestclassifier__max_features': 'auto',\n",
       " 'randomforestclassifier__max_leaf_nodes': None,\n",
       " 'randomforestclassifier__max_samples': None,\n",
       " 'randomforestclassifier__min_impurity_decrease': 0.0,\n",
       " 'randomforestclassifier__min_impurity_split': None,\n",
       " 'randomforestclassifier__min_samples_leaf': 1,\n",
       " 'randomforestclassifier__min_samples_split': 2,\n",
       " 'randomforestclassifier__min_weight_fraction_leaf': 0.0,\n",
       " 'randomforestclassifier__n_estimators': 100,\n",
       " 'randomforestclassifier__n_jobs': None,\n",
       " 'randomforestclassifier__oob_score': False,\n",
       " 'randomforestclassifier__random_state': None,\n",
       " 'randomforestclassifier__verbose': 0,\n",
       " 'randomforestclassifier__warm_start': False}"
      ]
     },
     "execution_count": 22,
     "metadata": {},
     "output_type": "execute_result"
    }
   ],
   "source": [
    "rf_pipe.get_params()"
   ]
  },
  {
   "cell_type": "markdown",
   "metadata": {},
   "source": [
    "Using this information, I create the parameter grids and the values I wish to test during the grid search:"
   ]
  },
  {
   "cell_type": "code",
   "execution_count": 23,
   "metadata": {},
   "outputs": [],
   "source": [
    "logreg_param_grid = {\n",
    "    'logisticregression__penalty': ['none', 'l2', 'l1', 'elasticnet'],\n",
    "    'logisticregression__C': [0.2, 0.5, 1.0, 1.5]\n",
    "}\n",
    "\n",
    "rf_param_grid = {\n",
    "    'randomforestclassifier__n_estimators': [10, 50, 100],\n",
    "    'randomforestclassifier__criterion': ['gini', 'entropy']\n",
    "}"
   ]
  },
  {
   "cell_type": "markdown",
   "metadata": {},
   "source": [
    "Optimizing logistic regression model helps it perform slightly better; was able to predict true negatives than initial model"
   ]
  },
  {
   "cell_type": "code",
   "execution_count": 24,
   "metadata": {},
   "outputs": [
    {
     "data": {
      "text/plain": [
       "GridSearchCV(estimator=Pipeline(steps=[('tfidfvectorizer', TfidfVectorizer()),\n",
       "                                       ('smote',\n",
       "                                        SMOTE(sampling_strategy='not '\n",
       "                                                                'majority')),\n",
       "                                       ('logisticregression',\n",
       "                                        LogisticRegression())]),\n",
       "             param_grid={'logisticregression__C': [0.2, 0.5, 1.0, 1.5],\n",
       "                         'logisticregression__penalty': ['none', 'l2', 'l1',\n",
       "                                                         'elasticnet']},\n",
       "             scoring='recall_micro')"
      ]
     },
     "execution_count": 24,
     "metadata": {},
     "output_type": "execute_result"
    }
   ],
   "source": [
    "logreg_gridsearch = GridSearchCV(estimator=logreg_pipe,\n",
    "                                param_grid=logreg_param_grid,\n",
    "                                scoring='recall_micro')\n",
    "logreg_gridsearch.fit(X_train, y_train)"
   ]
  },
  {
   "cell_type": "code",
   "execution_count": 25,
   "metadata": {},
   "outputs": [
    {
     "name": "stdout",
     "output_type": "stream",
     "text": [
      "Best recall score: 0.844\n",
      "Optimal parameters: {'logisticregression__C': 0.5, 'logisticregression__penalty': 'none'}\n"
     ]
    },
    {
     "data": {
      "text/plain": [
       "<sklearn.metrics._plot.confusion_matrix.ConfusionMatrixDisplay at 0x162cf0ccbe0>"
      ]
     },
     "execution_count": 25,
     "metadata": {},
     "output_type": "execute_result"
    },
    {
     "data": {
      "image/png": "[encoded data removed]",
      "text/plain": [
       "<Figure size 432x288 with 2 Axes>"
      ]
     },
     "metadata": {
      "needs_background": "light"
     },
     "output_type": "display_data"
    }
   ],
   "source": [
    "print(\"Best recall score:\", logreg_gridsearch.best_score_.round(3))\n",
    "print(\"Optimal parameters:\", logreg_gridsearch.best_params_)\n",
    "plot_confusion_matrix(logreg_gridsearch, X_test, y_test)"
   ]
  },
  {
   "cell_type": "markdown",
   "metadata": {},
   "source": [
    "Surprisingly, random forest grid search returns a worse result than the original random forest model -- and therefore is also worse than our logistic regression model -- with the default parameters."
   ]
  },
  {
   "cell_type": "code",
   "execution_count": 26,
   "metadata": {},
   "outputs": [
    {
     "data": {
      "text/plain": [
       "GridSearchCV(estimator=Pipeline(steps=[('tfidfvectorizer', TfidfVectorizer()),\n",
       "                                       ('smote',\n",
       "                                        SMOTE(sampling_strategy='not '\n",
       "                                                                'majority')),\n",
       "                                       ('randomforestclassifier',\n",
       "                                        RandomForestClassifier())]),\n",
       "             param_grid={'randomforestclassifier__criterion': ['gini',\n",
       "                                                               'entropy'],\n",
       "                         'randomforestclassifier__n_estimators': [10, 50, 100]},\n",
       "             scoring='recall_micro')"
      ]
     },
     "execution_count": 26,
     "metadata": {},
     "output_type": "execute_result"
    }
   ],
   "source": [
    "rf_gridsearch = GridSearchCV(estimator=rf_pipe, \n",
    "                             param_grid=rf_param_grid, \n",
    "                             scoring='recall_micro')\n",
    "rf_gridsearch.fit(X_train, y_train)"
   ]
  },
  {
   "cell_type": "code",
   "execution_count": 27,
   "metadata": {},
   "outputs": [
    {
     "name": "stdout",
     "output_type": "stream",
     "text": [
      "Best recall score: 0.812\n",
      "Optimal parameters: {'randomforestclassifier__criterion': 'gini', 'randomforestclassifier__n_estimators': 100}\n"
     ]
    },
    {
     "data": {
      "text/plain": [
       "<sklearn.metrics._plot.confusion_matrix.ConfusionMatrixDisplay at 0x162d3431a60>"
      ]
     },
     "execution_count": 27,
     "metadata": {},
     "output_type": "execute_result"
    },
    {
     "data": {
      "image/png": "[encoded data removed]",
      "text/plain": [
       "<Figure size 432x288 with 2 Axes>"
      ]
     },
     "metadata": {
      "needs_background": "light"
     },
     "output_type": "display_data"
    }
   ],
   "source": [
    "print(\"Best recall score:\", rf_gridsearch.best_score_.round(3))\n",
    "print(\"Optimal parameters:\", rf_gridsearch.best_params_)\n",
    "plot_confusion_matrix(rf_gridsearch, X_test, y_test)"
   ]
  },
  {
   "cell_type": "markdown",
   "metadata": {},
   "source": [
    "## Application"
   ]
  },
  {
   "cell_type": "markdown",
   "metadata": {},
   "source": []
  },
  {
   "cell_type": "markdown",
   "metadata": {},
   "source": [
    "## Conclusion"
   ]
  },
  {
   "cell_type": "markdown",
   "metadata": {},
   "source": [
    "- Best model was able to predict sentiment with ~83% recall score, ~84% with optimized parameters"
   ]
  },
  {
   "cell_type": "markdown",
   "metadata": {},
   "source": [
    "### Next Steps"
   ]
  },
  {
   "cell_type": "markdown",
   "metadata": {},
   "source": [
    "- I would like to implement a recommendation system into my application where users can be recommended games based on whether they liked the games they reviewed (i.e. if a user gave a negative review for ACNH they would receive recommendations based on what was popular among other people who also negatively reviewed ACNH) and genres\n",
    "- Building on that, I would like to build a database of Switch games. The recommender system would still be present, but for people who prefer to browse, I would want to implement a database that includes details about each game such as trailers, reviews from other sites, etc."
   ]
  },
  {
   "cell_type": "code",
   "execution_count": null,
   "metadata": {},
   "outputs": [],
   "source": []
  }
 ],
 "metadata": {
  "kernelspec": {
   "display_name": "Python 3",
   "language": "python",
   "name": "python3"
  },
  "language_info": {
   "codemirror_mode": {
    "name": "ipython",
    "version": 3
   },
   "file_extension": ".py",
   "mimetype": "text/x-python",
   "name": "python",
   "nbconvert_exporter": "python",
   "pygments_lexer": "ipython3",
   "version": "3.8.5"
  }
 },
 "nbformat": 4,
 "nbformat_minor": 4
}
