{
 "cells": [
  {
   "cell_type": "markdown",
   "metadata": {},
   "source": [
    "![Animal Crossing: New Horizons official art](images/AnimalCrossingNewHorizons.jpg)\n",
    "*Source: [Nintendo Life](https://nintendosoup.com/animal-crossing-new-horizons-full-official-artwork-revealed/)*"
   ]
  },
  {
   "cell_type": "markdown",
   "metadata": {},
   "source": [
    "# Predicting Sentiment of Animal Crossing: New Horizons Reviews"
   ]
  },
  {
   "cell_type": "markdown",
   "metadata": {},
   "source": [
    "## Introduction"
   ]
  },
  {
   "cell_type": "markdown",
   "metadata": {},
   "source": [
    "This project consists of two parts: the creation of a machine learning model using the [scikit-learn](https://scikit-learn.org/stable/) library that can perform an optimized sentiment rating on reviews for Animal Crossing: New Horizons and the deployment of that model to create an application that can predict the sentiment of a raw user-submitted review for the game."
   ]
  },
  {
   "cell_type": "markdown",
   "metadata": {},
   "source": [
    "## Business Problem"
   ]
  },
  {
   "cell_type": "markdown",
   "metadata": {},
   "source": [
    "Animal Crossing: New Horizons is one of the Nintendo Switch's best entries, having sold 33.89 million copies [(as of June 30, 2021)](https://www.nintendo.co.jp/ir/en/finance/software/index.html) and is the second-best selling game in the console's history. Having released during the beginning the COVID-19 pandemic, it served as a cultural icon and played a major part in driving Switch sales. However, since the beginning it has been a growing topic of controversy and debate. Fans of the franchise would (and still do) comment about how lackluster its features were compared to past titles, while others just become burnt out and bored quickly due to the lack of content.\n",
    "\n",
    "If I were given the task to help Nintendo's development team figure out new updates for New Horizons or help contribute ideas for the next title in the Animal Crossing series, I would want to look at reviews and feedback surrounding New Horizons to let them know what they did well and what they could improve on. To do this, we can create and test a machine learning model using the scikit-learn library that can accurately predict the sentiment of user's review based its content. We can then use the best model and create an application where users can input their own reviews for the game to collect and sort different reviews for New Horizons. This way, we can use the feedback collected from the users who submitted reviews to further investigate what we did well and what we can improve on with later titles. The feedback we receive can also help with marketing strategies to promote this game and other future Switch titles."
   ]
  },
  {
   "cell_type": "markdown",
   "metadata": {},
   "source": [
    "## Data Preparation"
   ]
  },
  {
   "cell_type": "code",
   "execution_count": 1,
   "metadata": {},
   "outputs": [],
   "source": [
    "import pandas as pd\n",
    "import numpy as np\n",
    "import matplotlib.pyplot as plt\n",
    "import seaborn as sb\n",
    "\n",
    "import nltk\n",
    "from nltk.corpus import stopwords\n",
    "from nltk import word_tokenize, regexp_tokenize, FreqDist\n",
    "from nltk.stem import WordNetLemmatizer\n",
    "from wordcloud import WordCloud\n",
    "from nltk.collocations import *\n",
    "from nltk.util import ngrams\n",
    "import string\n",
    "import re\n",
    "\n",
    "from sklearn.model_selection import train_test_split, cross_val_score, GridSearchCV\n",
    "from sklearn.linear_model import LogisticRegression\n",
    "from sklearn.feature_extraction.text import TfidfVectorizer\n",
    "from sklearn.metrics import plot_confusion_matrix, recall_score, f1_score\n",
    "from sklearn.naive_bayes import MultinomialNB\n",
    "from sklearn.tree import DecisionTreeClassifier\n",
    "from sklearn.ensemble import RandomForestClassifier\n",
    "\n",
    "from imblearn.over_sampling import SMOTE\n",
    "from imblearn.pipeline import make_pipeline\n",
    "\n",
    "import warnings\n",
    "warnings.filterwarnings('ignore')\n",
    "\n",
    "import pickle"
   ]
  },
  {
   "cell_type": "markdown",
   "metadata": {},
   "source": [
    "### Exploring the data"
   ]
  },
  {
   "cell_type": "markdown",
   "metadata": {},
   "source": [
    "The data used comes from Jesse Mostipak on [Kaggle](https://www.kaggle.com/jessemostipak/animal-crossing) and contains several datasets pertaining to Animal Crossing: New Horizons; specifically, we'll be looking at the dataset with  reviews from Metacritic users that submitted reviews for the game between March 2020 and May 2020, which is accessed through the `user_reviews.csv` file."
   ]
  },
  {
   "cell_type": "code",
   "execution_count": 2,
   "metadata": {},
   "outputs": [
    {
     "data": {
      "text/html": [
       "<div>\n",
       "<style scoped>\n",
       "    .dataframe tbody tr th:only-of-type {\n",
       "        vertical-align: middle;\n",
       "    }\n",
       "\n",
       "    .dataframe tbody tr th {\n",
       "        vertical-align: top;\n",
       "    }\n",
       "\n",
       "    .dataframe thead th {\n",
       "        text-align: right;\n",
       "    }\n",
       "</style>\n",
       "<table border=\"1\" class=\"dataframe\">\n",
       "  <thead>\n",
       "    <tr style=\"text-align: right;\">\n",
       "      <th></th>\n",
       "      <th>grade</th>\n",
       "      <th>user_name</th>\n",
       "      <th>text</th>\n",
       "      <th>date</th>\n",
       "    </tr>\n",
       "  </thead>\n",
       "  <tbody>\n",
       "    <tr>\n",
       "      <th>0</th>\n",
       "      <td>4</td>\n",
       "      <td>mds27272</td>\n",
       "      <td>My gf started playing before me. No option to ...</td>\n",
       "      <td>2020-03-20</td>\n",
       "    </tr>\n",
       "    <tr>\n",
       "      <th>1</th>\n",
       "      <td>5</td>\n",
       "      <td>lolo2178</td>\n",
       "      <td>While the game itself is great, really relaxin...</td>\n",
       "      <td>2020-03-20</td>\n",
       "    </tr>\n",
       "    <tr>\n",
       "      <th>2</th>\n",
       "      <td>0</td>\n",
       "      <td>Roachant</td>\n",
       "      <td>My wife and I were looking forward to playing ...</td>\n",
       "      <td>2020-03-20</td>\n",
       "    </tr>\n",
       "    <tr>\n",
       "      <th>3</th>\n",
       "      <td>0</td>\n",
       "      <td>Houndf</td>\n",
       "      <td>We need equal values and opportunities for all...</td>\n",
       "      <td>2020-03-20</td>\n",
       "    </tr>\n",
       "    <tr>\n",
       "      <th>4</th>\n",
       "      <td>0</td>\n",
       "      <td>ProfessorFox</td>\n",
       "      <td>BEWARE!  If you have multiple people in your h...</td>\n",
       "      <td>2020-03-20</td>\n",
       "    </tr>\n",
       "  </tbody>\n",
       "</table>\n",
       "</div>"
      ],
      "text/plain": [
       "   grade     user_name                                               text  \\\n",
       "0      4      mds27272  My gf started playing before me. No option to ...   \n",
       "1      5      lolo2178  While the game itself is great, really relaxin...   \n",
       "2      0      Roachant  My wife and I were looking forward to playing ...   \n",
       "3      0        Houndf  We need equal values and opportunities for all...   \n",
       "4      0  ProfessorFox  BEWARE!  If you have multiple people in your h...   \n",
       "\n",
       "         date  \n",
       "0  2020-03-20  \n",
       "1  2020-03-20  \n",
       "2  2020-03-20  \n",
       "3  2020-03-20  \n",
       "4  2020-03-20  "
      ]
     },
     "execution_count": 2,
     "metadata": {},
     "output_type": "execute_result"
    }
   ],
   "source": [
    "user_df = pd.read_csv('data/user_reviews.csv')\n",
    "user_df.head()"
   ]
  },
  {
   "cell_type": "markdown",
   "metadata": {},
   "source": [
    "Dropping the `user_name` column of the dataframe so we can more easily focus on the most important components,\n",
    "we investigate the properties of the data:"
   ]
  },
  {
   "cell_type": "code",
   "execution_count": 3,
   "metadata": {},
   "outputs": [
    {
     "name": "stdout",
     "output_type": "stream",
     "text": [
      "<class 'pandas.core.frame.DataFrame'>\n",
      "RangeIndex: 2999 entries, 0 to 2998\n",
      "Data columns (total 3 columns):\n",
      " #   Column  Non-Null Count  Dtype \n",
      "---  ------  --------------  ----- \n",
      " 0   grade   2999 non-null   int64 \n",
      " 1   text    2999 non-null   object\n",
      " 2   date    2999 non-null   object\n",
      "dtypes: int64(1), object(2)\n",
      "memory usage: 70.4+ KB\n",
      "None\n"
     ]
    },
    {
     "data": {
      "text/html": [
       "<div>\n",
       "<style scoped>\n",
       "    .dataframe tbody tr th:only-of-type {\n",
       "        vertical-align: middle;\n",
       "    }\n",
       "\n",
       "    .dataframe tbody tr th {\n",
       "        vertical-align: top;\n",
       "    }\n",
       "\n",
       "    .dataframe thead th {\n",
       "        text-align: right;\n",
       "    }\n",
       "</style>\n",
       "<table border=\"1\" class=\"dataframe\">\n",
       "  <thead>\n",
       "    <tr style=\"text-align: right;\">\n",
       "      <th></th>\n",
       "      <th>grade</th>\n",
       "      <th>text</th>\n",
       "      <th>date</th>\n",
       "    </tr>\n",
       "  </thead>\n",
       "  <tbody>\n",
       "    <tr>\n",
       "      <th>0</th>\n",
       "      <td>4</td>\n",
       "      <td>My gf started playing before me. No option to ...</td>\n",
       "      <td>2020-03-20</td>\n",
       "    </tr>\n",
       "    <tr>\n",
       "      <th>1</th>\n",
       "      <td>5</td>\n",
       "      <td>While the game itself is great, really relaxin...</td>\n",
       "      <td>2020-03-20</td>\n",
       "    </tr>\n",
       "    <tr>\n",
       "      <th>2</th>\n",
       "      <td>0</td>\n",
       "      <td>My wife and I were looking forward to playing ...</td>\n",
       "      <td>2020-03-20</td>\n",
       "    </tr>\n",
       "    <tr>\n",
       "      <th>3</th>\n",
       "      <td>0</td>\n",
       "      <td>We need equal values and opportunities for all...</td>\n",
       "      <td>2020-03-20</td>\n",
       "    </tr>\n",
       "    <tr>\n",
       "      <th>4</th>\n",
       "      <td>0</td>\n",
       "      <td>BEWARE!  If you have multiple people in your h...</td>\n",
       "      <td>2020-03-20</td>\n",
       "    </tr>\n",
       "    <tr>\n",
       "      <th>...</th>\n",
       "      <td>...</td>\n",
       "      <td>...</td>\n",
       "      <td>...</td>\n",
       "    </tr>\n",
       "    <tr>\n",
       "      <th>2994</th>\n",
       "      <td>1</td>\n",
       "      <td>1 Island for console limitation.I cannot play ...</td>\n",
       "      <td>2020-05-03</td>\n",
       "    </tr>\n",
       "    <tr>\n",
       "      <th>2995</th>\n",
       "      <td>1</td>\n",
       "      <td>Per giocare con figli o fidanzate, mogli o per...</td>\n",
       "      <td>2020-05-03</td>\n",
       "    </tr>\n",
       "    <tr>\n",
       "      <th>2996</th>\n",
       "      <td>0</td>\n",
       "      <td>One island per console is a pathetic limitatio...</td>\n",
       "      <td>2020-05-03</td>\n",
       "    </tr>\n",
       "    <tr>\n",
       "      <th>2997</th>\n",
       "      <td>2</td>\n",
       "      <td>Even though it seems like a great game with ma...</td>\n",
       "      <td>2020-05-03</td>\n",
       "    </tr>\n",
       "    <tr>\n",
       "      <th>2998</th>\n",
       "      <td>4</td>\n",
       "      <td>Game is fantastic.Nintendo deciding that you c...</td>\n",
       "      <td>2020-05-03</td>\n",
       "    </tr>\n",
       "  </tbody>\n",
       "</table>\n",
       "<p>2999 rows × 3 columns</p>\n",
       "</div>"
      ],
      "text/plain": [
       "      grade                                               text        date\n",
       "0         4  My gf started playing before me. No option to ...  2020-03-20\n",
       "1         5  While the game itself is great, really relaxin...  2020-03-20\n",
       "2         0  My wife and I were looking forward to playing ...  2020-03-20\n",
       "3         0  We need equal values and opportunities for all...  2020-03-20\n",
       "4         0  BEWARE!  If you have multiple people in your h...  2020-03-20\n",
       "...     ...                                                ...         ...\n",
       "2994      1  1 Island for console limitation.I cannot play ...  2020-05-03\n",
       "2995      1  Per giocare con figli o fidanzate, mogli o per...  2020-05-03\n",
       "2996      0  One island per console is a pathetic limitatio...  2020-05-03\n",
       "2997      2  Even though it seems like a great game with ma...  2020-05-03\n",
       "2998      4  Game is fantastic.Nintendo deciding that you c...  2020-05-03\n",
       "\n",
       "[2999 rows x 3 columns]"
      ]
     },
     "execution_count": 3,
     "metadata": {},
     "output_type": "execute_result"
    }
   ],
   "source": [
    "user_df = user_df.drop(['user_name'], axis=1)\n",
    "print(user_df.info())\n",
    "user_df"
   ]
  },
  {
   "cell_type": "markdown",
   "metadata": {},
   "source": [
    "Looking at a distribution of scores that the users gave the game within the this time period, it seems that the reviews were heavily polarized; a majority of users seemed to either love or hate the game."
   ]
  },
  {
   "cell_type": "code",
   "execution_count": 4,
   "metadata": {},
   "outputs": [
    {
     "data": {
      "text/plain": [
       "<AxesSubplot:>"
      ]
     },
     "execution_count": 4,
     "metadata": {},
     "output_type": "execute_result"
    },
    {
     "data": {
      "image/png": "[encoded data removed]",
      "text/plain": [
       "<Figure size 432x288 with 1 Axes>"
      ]
     },
     "metadata": {
      "needs_background": "light"
     },
     "output_type": "display_data"
    }
   ],
   "source": [
    "user_df['grade'].hist()"
   ]
  },
  {
   "cell_type": "markdown",
   "metadata": {},
   "source": [
    "### Tokenization with NLTK"
   ]
  },
  {
   "cell_type": "markdown",
   "metadata": {},
   "source": [
    "Before we continue with exploring our data, we tokenize our text data so each review is split into lists of individual words instead of whole strings; one thing we can do after tokenizing our text is to make and look at frequency distributions to observe which words were the most common among all our text data. To tokenize our text, we use functions found in [NLTK](https://www.nltk.org/), a Python library dedicated for language processing and analysis. \n",
    "\n",
    "We define a regular expression pattern before applying the tokenizer to our text so that it can recognize contractions as one word instead of splitting them by the root word and the apostrophes."
   ]
  },
  {
   "cell_type": "code",
   "execution_count": 5,
   "metadata": {},
   "outputs": [
    {
     "data": {
      "text/plain": [
       "0       [My, gf, started, playing, before, me, No, opt...\n",
       "1       [While, the, game, itself, is, great, really, ...\n",
       "2       [My, wife, and, I, were, looking, forward, to,...\n",
       "3       [We, need, equal, values, and, opportunities, ...\n",
       "4       [BEWARE, If, you, have, multiple, people, in, ...\n",
       "                              ...                        \n",
       "2994    [Island, for, console, limitation, I, cannot, ...\n",
       "2995    [Per, giocare, con, figli, o, fidanzate, mogli...\n",
       "2996    [One, island, per, console, is, a, pathetic, l...\n",
       "2997    [Even, though, it, seems, like, a, great, game...\n",
       "2998    [Game, is, fantastic, Nintendo, deciding, that...\n",
       "Name: tokens_raw, Length: 2999, dtype: object"
      ]
     },
     "execution_count": 5,
     "metadata": {},
     "output_type": "execute_result"
    }
   ],
   "source": [
    "pattern = \"([a-zA-Z]+(?:'[a-z]+)?)\"\n",
    "\n",
    "user_df['tokens_raw'] = [regexp_tokenize(text, pattern) for text in user_df['text']]\n",
    "\n",
    "user_df['tokens_raw']"
   ]
  },
  {
   "cell_type": "markdown",
   "metadata": {},
   "source": [
    "For NLTK to recognize all cases of the word as the same word, we also change all the words to lowercase."
   ]
  },
  {
   "cell_type": "code",
   "execution_count": 6,
   "metadata": {},
   "outputs": [
    {
     "data": {
      "text/html": [
       "<div>\n",
       "<style scoped>\n",
       "    .dataframe tbody tr th:only-of-type {\n",
       "        vertical-align: middle;\n",
       "    }\n",
       "\n",
       "    .dataframe tbody tr th {\n",
       "        vertical-align: top;\n",
       "    }\n",
       "\n",
       "    .dataframe thead th {\n",
       "        text-align: right;\n",
       "    }\n",
       "</style>\n",
       "<table border=\"1\" class=\"dataframe\">\n",
       "  <thead>\n",
       "    <tr style=\"text-align: right;\">\n",
       "      <th></th>\n",
       "      <th>grade</th>\n",
       "      <th>text</th>\n",
       "      <th>date</th>\n",
       "      <th>tokens_raw</th>\n",
       "      <th>tokens</th>\n",
       "    </tr>\n",
       "  </thead>\n",
       "  <tbody>\n",
       "    <tr>\n",
       "      <th>0</th>\n",
       "      <td>4</td>\n",
       "      <td>My gf started playing before me. No option to ...</td>\n",
       "      <td>2020-03-20</td>\n",
       "      <td>[My, gf, started, playing, before, me, No, opt...</td>\n",
       "      <td>[my, gf, started, playing, before, me, no, opt...</td>\n",
       "    </tr>\n",
       "    <tr>\n",
       "      <th>1</th>\n",
       "      <td>5</td>\n",
       "      <td>While the game itself is great, really relaxin...</td>\n",
       "      <td>2020-03-20</td>\n",
       "      <td>[While, the, game, itself, is, great, really, ...</td>\n",
       "      <td>[while, the, game, itself, is, great, really, ...</td>\n",
       "    </tr>\n",
       "    <tr>\n",
       "      <th>2</th>\n",
       "      <td>0</td>\n",
       "      <td>My wife and I were looking forward to playing ...</td>\n",
       "      <td>2020-03-20</td>\n",
       "      <td>[My, wife, and, I, were, looking, forward, to,...</td>\n",
       "      <td>[my, wife, and, i, were, looking, forward, to,...</td>\n",
       "    </tr>\n",
       "    <tr>\n",
       "      <th>3</th>\n",
       "      <td>0</td>\n",
       "      <td>We need equal values and opportunities for all...</td>\n",
       "      <td>2020-03-20</td>\n",
       "      <td>[We, need, equal, values, and, opportunities, ...</td>\n",
       "      <td>[we, need, equal, values, and, opportunities, ...</td>\n",
       "    </tr>\n",
       "    <tr>\n",
       "      <th>4</th>\n",
       "      <td>0</td>\n",
       "      <td>BEWARE!  If you have multiple people in your h...</td>\n",
       "      <td>2020-03-20</td>\n",
       "      <td>[BEWARE, If, you, have, multiple, people, in, ...</td>\n",
       "      <td>[beware, if, you, have, multiple, people, in, ...</td>\n",
       "    </tr>\n",
       "  </tbody>\n",
       "</table>\n",
       "</div>"
      ],
      "text/plain": [
       "   grade                                               text        date  \\\n",
       "0      4  My gf started playing before me. No option to ...  2020-03-20   \n",
       "1      5  While the game itself is great, really relaxin...  2020-03-20   \n",
       "2      0  My wife and I were looking forward to playing ...  2020-03-20   \n",
       "3      0  We need equal values and opportunities for all...  2020-03-20   \n",
       "4      0  BEWARE!  If you have multiple people in your h...  2020-03-20   \n",
       "\n",
       "                                          tokens_raw  \\\n",
       "0  [My, gf, started, playing, before, me, No, opt...   \n",
       "1  [While, the, game, itself, is, great, really, ...   \n",
       "2  [My, wife, and, I, were, looking, forward, to,...   \n",
       "3  [We, need, equal, values, and, opportunities, ...   \n",
       "4  [BEWARE, If, you, have, multiple, people, in, ...   \n",
       "\n",
       "                                              tokens  \n",
       "0  [my, gf, started, playing, before, me, no, opt...  \n",
       "1  [while, the, game, itself, is, great, really, ...  \n",
       "2  [my, wife, and, i, were, looking, forward, to,...  \n",
       "3  [we, need, equal, values, and, opportunities, ...  \n",
       "4  [beware, if, you, have, multiple, people, in, ...  "
      ]
     },
     "execution_count": 6,
     "metadata": {},
     "output_type": "execute_result"
    }
   ],
   "source": [
    "user_df['tokens'] = user_df['tokens_raw'].apply(lambda x: [word.lower() for word in x])\n",
    "user_df.head()"
   ]
  },
  {
   "cell_type": "markdown",
   "metadata": {},
   "source": [
    "Finally to clean our review text and to ensure we obtain a meaningful observation of the most common words, we remove stopwords from our reviews. These stopwords are based on the following crireria:\n",
    "- Common stopwords in the English language found in NLTK's `stopwords.words('english')`\n",
    "- Punctuation\n",
    "- Other words that are redundant and irrelevant to our analysis of review sentiment; this would include general words like \"game\" and the title of the game\n",
    "- Standalone letters that remain in each review by themselves after tokenizing each review with the regular expression"
   ]
  },
  {
   "cell_type": "code",
   "execution_count": 7,
   "metadata": {},
   "outputs": [
    {
     "data": {
      "text/html": [
       "<div>\n",
       "<style scoped>\n",
       "    .dataframe tbody tr th:only-of-type {\n",
       "        vertical-align: middle;\n",
       "    }\n",
       "\n",
       "    .dataframe tbody tr th {\n",
       "        vertical-align: top;\n",
       "    }\n",
       "\n",
       "    .dataframe thead th {\n",
       "        text-align: right;\n",
       "    }\n",
       "</style>\n",
       "<table border=\"1\" class=\"dataframe\">\n",
       "  <thead>\n",
       "    <tr style=\"text-align: right;\">\n",
       "      <th></th>\n",
       "      <th>grade</th>\n",
       "      <th>text</th>\n",
       "      <th>date</th>\n",
       "      <th>tokens_raw</th>\n",
       "      <th>tokens</th>\n",
       "      <th>no_stops</th>\n",
       "    </tr>\n",
       "  </thead>\n",
       "  <tbody>\n",
       "    <tr>\n",
       "      <th>0</th>\n",
       "      <td>4</td>\n",
       "      <td>My gf started playing before me. No option to ...</td>\n",
       "      <td>2020-03-20</td>\n",
       "      <td>[My, gf, started, playing, before, me, No, opt...</td>\n",
       "      <td>[my, gf, started, playing, before, me, no, opt...</td>\n",
       "      <td>[gf, started, playing, option, create, island,...</td>\n",
       "    </tr>\n",
       "    <tr>\n",
       "      <th>1</th>\n",
       "      <td>5</td>\n",
       "      <td>While the game itself is great, really relaxin...</td>\n",
       "      <td>2020-03-20</td>\n",
       "      <td>[While, the, game, itself, is, great, really, ...</td>\n",
       "      <td>[while, the, game, itself, is, great, really, ...</td>\n",
       "      <td>[great, really, relaxing, gorgeous, can't, ign...</td>\n",
       "    </tr>\n",
       "    <tr>\n",
       "      <th>2</th>\n",
       "      <td>0</td>\n",
       "      <td>My wife and I were looking forward to playing ...</td>\n",
       "      <td>2020-03-20</td>\n",
       "      <td>[My, wife, and, I, were, looking, forward, to,...</td>\n",
       "      <td>[my, wife, and, i, were, looking, forward, to,...</td>\n",
       "      <td>[wife, looking, forward, playing, released, bo...</td>\n",
       "    </tr>\n",
       "    <tr>\n",
       "      <th>3</th>\n",
       "      <td>0</td>\n",
       "      <td>We need equal values and opportunities for all...</td>\n",
       "      <td>2020-03-20</td>\n",
       "      <td>[We, need, equal, values, and, opportunities, ...</td>\n",
       "      <td>[we, need, equal, values, and, opportunities, ...</td>\n",
       "      <td>[need, equal, values, opportunities, players, ...</td>\n",
       "    </tr>\n",
       "    <tr>\n",
       "      <th>4</th>\n",
       "      <td>0</td>\n",
       "      <td>BEWARE!  If you have multiple people in your h...</td>\n",
       "      <td>2020-03-20</td>\n",
       "      <td>[BEWARE, If, you, have, multiple, people, in, ...</td>\n",
       "      <td>[beware, if, you, have, multiple, people, in, ...</td>\n",
       "      <td>[beware, multiple, people, house, want, play, ...</td>\n",
       "    </tr>\n",
       "  </tbody>\n",
       "</table>\n",
       "</div>"
      ],
      "text/plain": [
       "   grade                                               text        date  \\\n",
       "0      4  My gf started playing before me. No option to ...  2020-03-20   \n",
       "1      5  While the game itself is great, really relaxin...  2020-03-20   \n",
       "2      0  My wife and I were looking forward to playing ...  2020-03-20   \n",
       "3      0  We need equal values and opportunities for all...  2020-03-20   \n",
       "4      0  BEWARE!  If you have multiple people in your h...  2020-03-20   \n",
       "\n",
       "                                          tokens_raw  \\\n",
       "0  [My, gf, started, playing, before, me, No, opt...   \n",
       "1  [While, the, game, itself, is, great, really, ...   \n",
       "2  [My, wife, and, I, were, looking, forward, to,...   \n",
       "3  [We, need, equal, values, and, opportunities, ...   \n",
       "4  [BEWARE, If, you, have, multiple, people, in, ...   \n",
       "\n",
       "                                              tokens  \\\n",
       "0  [my, gf, started, playing, before, me, no, opt...   \n",
       "1  [while, the, game, itself, is, great, really, ...   \n",
       "2  [my, wife, and, i, were, looking, forward, to,...   \n",
       "3  [we, need, equal, values, and, opportunities, ...   \n",
       "4  [beware, if, you, have, multiple, people, in, ...   \n",
       "\n",
       "                                            no_stops  \n",
       "0  [gf, started, playing, option, create, island,...  \n",
       "1  [great, really, relaxing, gorgeous, can't, ign...  \n",
       "2  [wife, looking, forward, playing, released, bo...  \n",
       "3  [need, equal, values, opportunities, players, ...  \n",
       "4  [beware, multiple, people, house, want, play, ...  "
      ]
     },
     "execution_count": 7,
     "metadata": {},
     "output_type": "execute_result"
    }
   ],
   "source": [
    "stopwords_list = stopwords.words('english')\n",
    "stopwords_list += list(string.punctuation)\n",
    "stopwords_list += ['game', 'animal', 'crossing', 'new', 'horizons', 'horizon']\n",
    "stopwords_list += list(string.ascii_lowercase)\n",
    "user_df['no_stops'] = user_df['tokens'].apply(lambda x: [w for w in x if w not in stopwords_list])\n",
    "\n",
    "user_df.head()"
   ]
  },
  {
   "cell_type": "markdown",
   "metadata": {},
   "source": [
    "With our text tokenized and cleaned, we can create a frequency distribution of all the words in our review text to find which words were the most common among all our reviews. "
   ]
  },
  {
   "cell_type": "code",
   "execution_count": 8,
   "metadata": {
    "scrolled": false
   },
   "outputs": [
    {
     "data": {
      "image/png": "[encoded data removed]",
      "text/plain": [
       "<Figure size 432x288 with 1 Axes>"
      ]
     },
     "metadata": {
      "needs_background": "light"
     },
     "output_type": "display_data"
    },
    {
     "data": {
      "text/plain": [
       "<AxesSubplot:title={'center':'Most common words'}, xlabel='Samples', ylabel='Counts'>"
      ]
     },
     "execution_count": 8,
     "metadata": {},
     "output_type": "execute_result"
    }
   ],
   "source": [
    "freq_dist = user_df['no_stops'].explode().to_list()\n",
    "fdist = FreqDist(freq_dist)\n",
    "fdist.plot(30, title='Most common words')"
   ]
  },
  {
   "cell_type": "markdown",
   "metadata": {},
   "source": [
    "Although we can see that words that would refer to some kind of sentiment towards the game are common like \"experience\", \"fun\", and \"can't\", by themselves they don't really tell us much. To dig deeper, we can use bigrams to get a better understanding of what people are saying about New Horizons."
   ]
  },
  {
   "cell_type": "code",
   "execution_count": 9,
   "metadata": {},
   "outputs": [],
   "source": [
    "user_df['bigrams'] = user_df['no_stops'].apply(lambda row: list(nltk.ngrams(row, 2)))"
   ]
  },
  {
   "cell_type": "markdown",
   "metadata": {},
   "source": [
    "After using NLTK's built-in function to create bigrams out of our `no_stops` column, we are able to check for the most common bigram sets in our data."
   ]
  },
  {
   "cell_type": "code",
   "execution_count": 10,
   "metadata": {},
   "outputs": [
    {
     "data": {
      "text/plain": [
       "[('one island', 1298),\n",
       " ('island per', 1178),\n",
       " ('per consol', 697),\n",
       " ('per console', 694),\n",
       " ('per switch', 613),\n",
       " ('nd player', 371),\n",
       " ('st player', 351),\n",
       " ('first play', 326),\n",
       " ('first player', 302),\n",
       " ('second play', 271),\n",
       " ('second player', 267),\n",
       " ('one play', 240),\n",
       " ('one per', 230),\n",
       " ('switch co', 219),\n",
       " ('one person', 212),\n",
       " ('one else', 209),\n",
       " ('co op', 207),\n",
       " ('review bomb', 205),\n",
       " ('want play', 176),\n",
       " ('switch con', 160),\n",
       " ('buy another', 157),\n",
       " ('ever play', 154),\n",
       " ('save fil', 153),\n",
       " ('save file', 152),\n",
       " ('st person', 151),\n",
       " ('share island', 148),\n",
       " ('switch console', 147),\n",
       " ('one player', 146),\n",
       " ('first person', 142),\n",
       " ('single player', 137)]"
      ]
     },
     "execution_count": 10,
     "metadata": {},
     "output_type": "execute_result"
    }
   ],
   "source": [
    "user_bow = user_df.no_stops.apply(lambda x: \" \".join(x)).str.cat(sep=\" \")\n",
    "user_bigrams = user_df['bigrams'].explode().to_list()\n",
    "bigram_count = dict()\n",
    "for bigram in user_bigrams:\n",
    "    if type(bigram) == tuple:\n",
    "        bgram = \" \".join(bigram)\n",
    "        bigram_count[bgram] = user_bow.count(bgram)\n",
    "        \n",
    "sorted_bigrams = sorted(bigram_count.items(), key = lambda x: x[1], reverse=True)\n",
    "sorted_bigrams[:30]"
   ]
  },
  {
   "cell_type": "markdown",
   "metadata": {},
   "source": [
    "Creating bigrams does give us a slightly better idea of what most people were talking about within their reviews. With my knowledge of the game as well, I can identify that a universal complaint was how each console is limited to one island, meaning that all the users on one Switch console would only be limited to the same island, which essentially is similar to sharing one save file."
   ]
  },
  {
   "cell_type": "markdown",
   "metadata": {},
   "source": [
    "### Labeling the data"
   ]
  },
  {
   "cell_type": "markdown",
   "metadata": {},
   "source": [
    "In order to train our model to make any kind of meaningful predictions, we need to assign \"positive\" and \"negative\" labels to our reviews. Although each review is accompanied by a score, to obtain a more general sentiment prediction, ideally we would want to label the reviews as either a \"positive\" or \"negative\" one. The labels were assigned based on the score threshold defined on [Metacritic's review page](https://www.metacritic.com/game/switch/animal-crossing-new-horizons/user-reviews) for Animal Crossing: New Horizons. For reference,\n",
    "- 8-10 is \"positive\"\n",
    "- 5-7 is \"neutral\"\n",
    "- 0-4 is \"negative\""
   ]
  },
  {
   "cell_type": "code",
   "execution_count": 11,
   "metadata": {},
   "outputs": [
    {
     "data": {
      "text/html": [
       "<div>\n",
       "<style scoped>\n",
       "    .dataframe tbody tr th:only-of-type {\n",
       "        vertical-align: middle;\n",
       "    }\n",
       "\n",
       "    .dataframe tbody tr th {\n",
       "        vertical-align: top;\n",
       "    }\n",
       "\n",
       "    .dataframe thead th {\n",
       "        text-align: right;\n",
       "    }\n",
       "</style>\n",
       "<table border=\"1\" class=\"dataframe\">\n",
       "  <thead>\n",
       "    <tr style=\"text-align: right;\">\n",
       "      <th></th>\n",
       "      <th>grade</th>\n",
       "      <th>text</th>\n",
       "      <th>date</th>\n",
       "      <th>tokens_raw</th>\n",
       "      <th>tokens</th>\n",
       "      <th>no_stops</th>\n",
       "      <th>bigrams</th>\n",
       "      <th>sentiment</th>\n",
       "    </tr>\n",
       "  </thead>\n",
       "  <tbody>\n",
       "    <tr>\n",
       "      <th>0</th>\n",
       "      <td>4</td>\n",
       "      <td>My gf started playing before me. No option to ...</td>\n",
       "      <td>2020-03-20</td>\n",
       "      <td>[My, gf, started, playing, before, me, No, opt...</td>\n",
       "      <td>[my, gf, started, playing, before, me, no, opt...</td>\n",
       "      <td>[gf, started, playing, option, create, island,...</td>\n",
       "      <td>[(gf, started), (started, playing), (playing, ...</td>\n",
       "      <td>negative</td>\n",
       "    </tr>\n",
       "    <tr>\n",
       "      <th>1</th>\n",
       "      <td>5</td>\n",
       "      <td>While the game itself is great, really relaxin...</td>\n",
       "      <td>2020-03-20</td>\n",
       "      <td>[While, the, game, itself, is, great, really, ...</td>\n",
       "      <td>[while, the, game, itself, is, great, really, ...</td>\n",
       "      <td>[great, really, relaxing, gorgeous, can't, ign...</td>\n",
       "      <td>[(great, really), (really, relaxing), (relaxin...</td>\n",
       "      <td>neutral</td>\n",
       "    </tr>\n",
       "    <tr>\n",
       "      <th>2</th>\n",
       "      <td>0</td>\n",
       "      <td>My wife and I were looking forward to playing ...</td>\n",
       "      <td>2020-03-20</td>\n",
       "      <td>[My, wife, and, I, were, looking, forward, to,...</td>\n",
       "      <td>[my, wife, and, i, were, looking, forward, to,...</td>\n",
       "      <td>[wife, looking, forward, playing, released, bo...</td>\n",
       "      <td>[(wife, looking), (looking, forward), (forward...</td>\n",
       "      <td>negative</td>\n",
       "    </tr>\n",
       "    <tr>\n",
       "      <th>3</th>\n",
       "      <td>0</td>\n",
       "      <td>We need equal values and opportunities for all...</td>\n",
       "      <td>2020-03-20</td>\n",
       "      <td>[We, need, equal, values, and, opportunities, ...</td>\n",
       "      <td>[we, need, equal, values, and, opportunities, ...</td>\n",
       "      <td>[need, equal, values, opportunities, players, ...</td>\n",
       "      <td>[(need, equal), (equal, values), (values, oppo...</td>\n",
       "      <td>negative</td>\n",
       "    </tr>\n",
       "    <tr>\n",
       "      <th>4</th>\n",
       "      <td>0</td>\n",
       "      <td>BEWARE!  If you have multiple people in your h...</td>\n",
       "      <td>2020-03-20</td>\n",
       "      <td>[BEWARE, If, you, have, multiple, people, in, ...</td>\n",
       "      <td>[beware, if, you, have, multiple, people, in, ...</td>\n",
       "      <td>[beware, multiple, people, house, want, play, ...</td>\n",
       "      <td>[(beware, multiple), (multiple, people), (peop...</td>\n",
       "      <td>negative</td>\n",
       "    </tr>\n",
       "    <tr>\n",
       "      <th>...</th>\n",
       "      <td>...</td>\n",
       "      <td>...</td>\n",
       "      <td>...</td>\n",
       "      <td>...</td>\n",
       "      <td>...</td>\n",
       "      <td>...</td>\n",
       "      <td>...</td>\n",
       "      <td>...</td>\n",
       "    </tr>\n",
       "    <tr>\n",
       "      <th>2994</th>\n",
       "      <td>1</td>\n",
       "      <td>1 Island for console limitation.I cannot play ...</td>\n",
       "      <td>2020-05-03</td>\n",
       "      <td>[Island, for, console, limitation, I, cannot, ...</td>\n",
       "      <td>[island, for, console, limitation, i, cannot, ...</td>\n",
       "      <td>[island, console, limitation, cannot, play, gi...</td>\n",
       "      <td>[(island, console), (console, limitation), (li...</td>\n",
       "      <td>negative</td>\n",
       "    </tr>\n",
       "    <tr>\n",
       "      <th>2995</th>\n",
       "      <td>1</td>\n",
       "      <td>Per giocare con figli o fidanzate, mogli o per...</td>\n",
       "      <td>2020-05-03</td>\n",
       "      <td>[Per, giocare, con, figli, o, fidanzate, mogli...</td>\n",
       "      <td>[per, giocare, con, figli, o, fidanzate, mogli...</td>\n",
       "      <td>[per, giocare, con, figli, fidanzate, mogli, p...</td>\n",
       "      <td>[(per, giocare), (giocare, con), (con, figli),...</td>\n",
       "      <td>negative</td>\n",
       "    </tr>\n",
       "    <tr>\n",
       "      <th>2996</th>\n",
       "      <td>0</td>\n",
       "      <td>One island per console is a pathetic limitatio...</td>\n",
       "      <td>2020-05-03</td>\n",
       "      <td>[One, island, per, console, is, a, pathetic, l...</td>\n",
       "      <td>[one, island, per, console, is, a, pathetic, l...</td>\n",
       "      <td>[one, island, per, console, pathetic, limitati...</td>\n",
       "      <td>[(one, island), (island, per), (per, console),...</td>\n",
       "      <td>negative</td>\n",
       "    </tr>\n",
       "    <tr>\n",
       "      <th>2997</th>\n",
       "      <td>2</td>\n",
       "      <td>Even though it seems like a great game with ma...</td>\n",
       "      <td>2020-05-03</td>\n",
       "      <td>[Even, though, it, seems, like, a, great, game...</td>\n",
       "      <td>[even, though, it, seems, like, a, great, game...</td>\n",
       "      <td>[even, though, seems, like, great, many, items...</td>\n",
       "      <td>[(even, though), (though, seems), (seems, like...</td>\n",
       "      <td>negative</td>\n",
       "    </tr>\n",
       "    <tr>\n",
       "      <th>2998</th>\n",
       "      <td>4</td>\n",
       "      <td>Game is fantastic.Nintendo deciding that you c...</td>\n",
       "      <td>2020-05-03</td>\n",
       "      <td>[Game, is, fantastic, Nintendo, deciding, that...</td>\n",
       "      <td>[game, is, fantastic, nintendo, deciding, that...</td>\n",
       "      <td>[fantastic, nintendo, deciding, make, one, isl...</td>\n",
       "      <td>[(fantastic, nintendo), (nintendo, deciding), ...</td>\n",
       "      <td>negative</td>\n",
       "    </tr>\n",
       "  </tbody>\n",
       "</table>\n",
       "<p>2999 rows × 8 columns</p>\n",
       "</div>"
      ],
      "text/plain": [
       "      grade                                               text        date  \\\n",
       "0         4  My gf started playing before me. No option to ...  2020-03-20   \n",
       "1         5  While the game itself is great, really relaxin...  2020-03-20   \n",
       "2         0  My wife and I were looking forward to playing ...  2020-03-20   \n",
       "3         0  We need equal values and opportunities for all...  2020-03-20   \n",
       "4         0  BEWARE!  If you have multiple people in your h...  2020-03-20   \n",
       "...     ...                                                ...         ...   \n",
       "2994      1  1 Island for console limitation.I cannot play ...  2020-05-03   \n",
       "2995      1  Per giocare con figli o fidanzate, mogli o per...  2020-05-03   \n",
       "2996      0  One island per console is a pathetic limitatio...  2020-05-03   \n",
       "2997      2  Even though it seems like a great game with ma...  2020-05-03   \n",
       "2998      4  Game is fantastic.Nintendo deciding that you c...  2020-05-03   \n",
       "\n",
       "                                             tokens_raw  \\\n",
       "0     [My, gf, started, playing, before, me, No, opt...   \n",
       "1     [While, the, game, itself, is, great, really, ...   \n",
       "2     [My, wife, and, I, were, looking, forward, to,...   \n",
       "3     [We, need, equal, values, and, opportunities, ...   \n",
       "4     [BEWARE, If, you, have, multiple, people, in, ...   \n",
       "...                                                 ...   \n",
       "2994  [Island, for, console, limitation, I, cannot, ...   \n",
       "2995  [Per, giocare, con, figli, o, fidanzate, mogli...   \n",
       "2996  [One, island, per, console, is, a, pathetic, l...   \n",
       "2997  [Even, though, it, seems, like, a, great, game...   \n",
       "2998  [Game, is, fantastic, Nintendo, deciding, that...   \n",
       "\n",
       "                                                 tokens  \\\n",
       "0     [my, gf, started, playing, before, me, no, opt...   \n",
       "1     [while, the, game, itself, is, great, really, ...   \n",
       "2     [my, wife, and, i, were, looking, forward, to,...   \n",
       "3     [we, need, equal, values, and, opportunities, ...   \n",
       "4     [beware, if, you, have, multiple, people, in, ...   \n",
       "...                                                 ...   \n",
       "2994  [island, for, console, limitation, i, cannot, ...   \n",
       "2995  [per, giocare, con, figli, o, fidanzate, mogli...   \n",
       "2996  [one, island, per, console, is, a, pathetic, l...   \n",
       "2997  [even, though, it, seems, like, a, great, game...   \n",
       "2998  [game, is, fantastic, nintendo, deciding, that...   \n",
       "\n",
       "                                               no_stops  \\\n",
       "0     [gf, started, playing, option, create, island,...   \n",
       "1     [great, really, relaxing, gorgeous, can't, ign...   \n",
       "2     [wife, looking, forward, playing, released, bo...   \n",
       "3     [need, equal, values, opportunities, players, ...   \n",
       "4     [beware, multiple, people, house, want, play, ...   \n",
       "...                                                 ...   \n",
       "2994  [island, console, limitation, cannot, play, gi...   \n",
       "2995  [per, giocare, con, figli, fidanzate, mogli, p...   \n",
       "2996  [one, island, per, console, pathetic, limitati...   \n",
       "2997  [even, though, seems, like, great, many, items...   \n",
       "2998  [fantastic, nintendo, deciding, make, one, isl...   \n",
       "\n",
       "                                                bigrams sentiment  \n",
       "0     [(gf, started), (started, playing), (playing, ...  negative  \n",
       "1     [(great, really), (really, relaxing), (relaxin...   neutral  \n",
       "2     [(wife, looking), (looking, forward), (forward...  negative  \n",
       "3     [(need, equal), (equal, values), (values, oppo...  negative  \n",
       "4     [(beware, multiple), (multiple, people), (peop...  negative  \n",
       "...                                                 ...       ...  \n",
       "2994  [(island, console), (console, limitation), (li...  negative  \n",
       "2995  [(per, giocare), (giocare, con), (con, figli),...  negative  \n",
       "2996  [(one, island), (island, per), (per, console),...  negative  \n",
       "2997  [(even, though), (though, seems), (seems, like...  negative  \n",
       "2998  [(fantastic, nintendo), (nintendo, deciding), ...  negative  \n",
       "\n",
       "[2999 rows x 8 columns]"
      ]
     },
     "execution_count": 11,
     "metadata": {},
     "output_type": "execute_result"
    }
   ],
   "source": [
    "def sentiment_labels(row):\n",
    "    \"\"\"\n",
    "    Quick function to label each review in the dataframe based\n",
    "    on the grade it was given on Metacritic.\n",
    "    \"\"\"\n",
    "    if row['grade'] >= 8:\n",
    "        val = 'positive'\n",
    "    elif row['grade'] <= 4:\n",
    "        val = 'negative'\n",
    "    else:\n",
    "        val = 'neutral'\n",
    "    return val\n",
    "\n",
    "user_df['sentiment'] = user_df.apply(sentiment_labels, axis=1)\n",
    "user_df"
   ]
  },
  {
   "cell_type": "markdown",
   "metadata": {},
   "source": [
    "Now that all the reviews are categorized into general sentiments, we can investigate the balance between each category in our data:"
   ]
  },
  {
   "cell_type": "code",
   "execution_count": 12,
   "metadata": {},
   "outputs": [
    {
     "data": {
      "text/plain": [
       "negative    1747\n",
       "positive    1096\n",
       "neutral      156\n",
       "Name: sentiment, dtype: int64"
      ]
     },
     "execution_count": 12,
     "metadata": {},
     "output_type": "execute_result"
    }
   ],
   "source": [
    "user_df['sentiment'].value_counts()"
   ]
  },
  {
   "cell_type": "code",
   "execution_count": 13,
   "metadata": {},
   "outputs": [
    {
     "data": {
      "text/plain": [
       "negative    0.582528\n",
       "positive    0.365455\n",
       "neutral     0.052017\n",
       "Name: sentiment, dtype: float64"
      ]
     },
     "execution_count": 13,
     "metadata": {},
     "output_type": "execute_result"
    }
   ],
   "source": [
    "user_df['sentiment'].value_counts(normalize=True)"
   ]
  },
  {
   "cell_type": "markdown",
   "metadata": {},
   "source": [
    "There seeems to be a significant class imbalance, as there are far more negative reviews than positive and neutral ones combined. We will address this imbalance during the creation of our models."
   ]
  },
  {
   "cell_type": "code",
   "execution_count": 14,
   "metadata": {},
   "outputs": [
    {
     "data": {
      "text/plain": [
       "<AxesSubplot:>"
      ]
     },
     "execution_count": 14,
     "metadata": {},
     "output_type": "execute_result"
    },
    {
     "data": {
      "image/png": "[encoded data removed]",
      "text/plain": [
       "<Figure size 432x288 with 1 Axes>"
      ]
     },
     "metadata": {
      "needs_background": "light"
     },
     "output_type": "display_data"
    }
   ],
   "source": [
    "user_df['sentiment'].hist()"
   ]
  },
  {
   "cell_type": "markdown",
   "metadata": {},
   "source": [
    "## Preprocessing"
   ]
  },
  {
   "cell_type": "markdown",
   "metadata": {},
   "source": [
    "We can also prepare our data to train our models by lemmatizing the text data, which simplifies variants of similar words in our text down to its root form through linguistic mappings within the function (i.e. \"running\" and \"ran\" would become \"run\"). I do this to reduce the amount of data the model has to take in by further simplifiying duplicate words with different suffixes to optimize runtime."
   ]
  },
  {
   "cell_type": "code",
   "execution_count": 15,
   "metadata": {},
   "outputs": [
    {
     "data": {
      "text/plain": [
       "0       [gf, started, playing, option, create, island,...\n",
       "1       [great, really, relaxing, gorgeous, can't, ign...\n",
       "2       [wife, looking, forward, playing, released, bo...\n",
       "3       [need, equal, value, opportunity, player, isla...\n",
       "4       [beware, multiple, people, house, want, play, ...\n",
       "                              ...                        \n",
       "2994    [island, console, limitation, cannot, play, gi...\n",
       "2995    [per, giocare, con, figli, fidanzate, mogli, p...\n",
       "2996    [one, island, per, console, pathetic, limitati...\n",
       "2997    [even, though, seems, like, great, many, item,...\n",
       "2998    [fantastic, nintendo, deciding, make, one, isl...\n",
       "Name: lemmatized, Length: 2999, dtype: object"
      ]
     },
     "execution_count": 15,
     "metadata": {},
     "output_type": "execute_result"
    }
   ],
   "source": [
    "lemmatizer = WordNetLemmatizer()\n",
    "user_df['lemmatized'] = user_df['no_stops'].apply(lambda x:[lemmatizer.lemmatize(w) for w in x])\n",
    "user_df['lemmatized']"
   ]
  },
  {
   "cell_type": "markdown",
   "metadata": {},
   "source": [
    "Lastly, we assign our lemmatized text data and the sentiment labels into X and y for our features and target variables and split them into training and test sets to fit our models."
   ]
  },
  {
   "cell_type": "code",
   "execution_count": 16,
   "metadata": {},
   "outputs": [],
   "source": [
    "X = user_df['lemmatized'].str.join(' ')\n",
    "y = user_df['sentiment']\n",
    "\n",
    "X_train, X_test, y_train, y_test = train_test_split(X, y, test_size=0.2, random_state=123)"
   ]
  },
  {
   "cell_type": "markdown",
   "metadata": {},
   "source": [
    "## Analysis"
   ]
  },
  {
   "cell_type": "markdown",
   "metadata": {},
   "source": [
    "I created the `text_classification` function to streamline the fitting process of each of the machine learning algorithms we'll be using to create each model.\n",
    "- The TF-IDF vectorizer is initialized to convert our text data into binary vectors that our classifiers can process.\n",
    "- Because our categories are imbalanced, to prevent overfitting we oversample our data using [SMOTE](https://imbalanced-learn.org/stable/references/generated/imblearn.over_sampling.SMOTE.html) and define a sampling strategy (`'not majority'`) to ensure SMOTE resamples all classes except our majority class.\n",
    "- Pipelines are created to apply the vectorizer and SMOTE to our data before the model is ran on our data. This also helps prevent data leakage by ensuring that these synthetic adjustments to our data is only performed on our training set, as performing this on the test set would affect the validity of our final model. \n",
    "- We use cross-validation and recall score to evaluate the performance of our model. Cross-validation splits the training set into subsets and measures the performance of the model against each subset while the recall score helps us know how well each model is able to predict true positives among the actual positives in our data.\n",
    "- A confusion matrix is also mapped to visually represent how well our model was able to correctly identify each label."
   ]
  },
  {
   "cell_type": "code",
   "execution_count": 17,
   "metadata": {},
   "outputs": [],
   "source": [
    "def text_classification(model):\n",
    "    \"\"\"\n",
    "    Takes in a scikit-learn classifier and runs a model\n",
    "    based on available training data. Returns cross-validated\n",
    "    scores, an average cross-validation score, and recall score \n",
    "    rating the performance of the model. Also returns a confusion \n",
    "    matrix as a visual representation of the model's accuracy and \n",
    "    the model's pipeline. \n",
    "    \"\"\"\n",
    "    tfidf_vectorizer = TfidfVectorizer()\n",
    "    smote = SMOTE(sampling_strategy='not majority')\n",
    "    \n",
    "    pipeline = make_pipeline(tfidf_vectorizer, smote, model)\n",
    "    \n",
    "    scores = cross_val_score(pipeline, X_train, y_train)\n",
    "    print('Cross-validated scores:', scores.round(3))\n",
    "    print('Average CV score:', np.mean(scores).round(3))\n",
    "    \n",
    "    pipeline.fit(X_train, y_train)\n",
    "    y_preds = pipeline.predict(X_test)\n",
    "    print('Recall score:', recall_score(y_test, y_preds, average='micro').round(3))\n",
    "    \n",
    "    plot_confusion_matrix(pipeline, X_test, y_test)\n",
    "    \n",
    "    return pipeline"
   ]
  },
  {
   "cell_type": "markdown",
   "metadata": {},
   "source": [
    "First we create a machine learning model using the [logistic regression](https://scikit-learn.org/stable/modules/generated/sklearn.linear_model.LogisticRegression.html) classifier. Building off the concept of linear regression used in regression analysis, logistic regression is used in classification problems where we want to predict the labels of our features. It's simplistic in concept and function, and can be used as a starting point to compare with more complex models later on.\n",
    "\n",
    "This model already gives a great result, as we already get a high average cross-validation score and recall score of ~82% each. Looking at the confusion matrix, it seems that it also did well in correctly distinguishing positive and negative reviews."
   ]
  },
  {
   "cell_type": "code",
   "execution_count": 18,
   "metadata": {},
   "outputs": [
    {
     "name": "stdout",
     "output_type": "stream",
     "text": [
      "Cross-validated scores: [0.831 0.838 0.802 0.823 0.81 ]\n",
      "Average CV score: 0.821\n",
      "Recall score: 0.822\n"
     ]
    },
    {
     "data": {
      "text/plain": [
       "Text(0.5, 1.0, 'Logistic regression confusion matrix')"
      ]
     },
     "execution_count": 18,
     "metadata": {},
     "output_type": "execute_result"
    },
    {
     "data": {
      "image/png": "[encoded data removed]",
      "text/plain": [
       "<Figure size 432x288 with 2 Axes>"
      ]
     },
     "metadata": {
      "needs_background": "light"
     },
     "output_type": "display_data"
    }
   ],
   "source": [
    "logreg_model = LogisticRegression(multi_class='multinomial')\n",
    "logreg_pipe = text_classification(logreg_model)\n",
    "plt.title('Logistic regression confusion matrix')"
   ]
  },
  {
   "cell_type": "markdown",
   "metadata": {},
   "source": [
    "Our next model utilizes the [Naive Bayes](https://scikit-learn.org/stable/modules/naive_bayes.html) classifier, which extends from Bayes' theorem and assumes all our features are independent, allowing an overall probability to be obtained by multiplying the conditional probabilities of each feature. There are multiple iterations of the Naive Bayes classifier in scikit-learn, but the [multinomial Naive Bayes](https://scikit-learn.org/stable/modules/generated/sklearn.naive_bayes.MultinomialNB.html) classifier is the most suitable for text classification due to its ability to perform classification on data with discrete features.\n",
    "\n",
    "This model unfortunately performs worse than our first linear regression model, but still performs decently well. It still predicts true negatives well, but tends to falsely label reviews as positive or neutral more frequently."
   ]
  },
  {
   "cell_type": "code",
   "execution_count": 19,
   "metadata": {},
   "outputs": [
    {
     "name": "stdout",
     "output_type": "stream",
     "text": [
      "Cross-validated scores: [0.688 0.69  0.654 0.735 0.735]\n",
      "Average CV score: 0.7\n",
      "Recall score: 0.677\n"
     ]
    },
    {
     "data": {
      "text/plain": [
       "Text(0.5, 1.0, 'Multinomial Naive Bayes confusion matrix')"
      ]
     },
     "execution_count": 19,
     "metadata": {},
     "output_type": "execute_result"
    },
    {
     "data": {
      "image/png": "[encoded data removed]",
      "text/plain": [
       "<Figure size 432x288 with 2 Axes>"
      ]
     },
     "metadata": {
      "needs_background": "light"
     },
     "output_type": "display_data"
    }
   ],
   "source": [
    "mnb_model = MultinomialNB()\n",
    "mnb_pipe = text_classification(mnb_model)\n",
    "plt.title('Multinomial Naive Bayes confusion matrix')"
   ]
  },
  {
   "cell_type": "markdown",
   "metadata": {},
   "source": [
    "The next model utilizes the [decision tree](https://scikit-learn.org/stable/modules/tree.html) classifier. This is another simple classifier that revolves around the idea of predicting the value of a target variable using decision rules inferred from the data features. I think the concept of this model matches well with the idea behind our model in using key words to predict the sentiment of a review.\n",
    "\n",
    "Unfortunately, my intuition was incorrect here -- this model performed even worse than the first two and tends to misclassify reviews as positive and negative much more often.\n"
   ]
  },
  {
   "cell_type": "code",
   "execution_count": 20,
   "metadata": {},
   "outputs": [
    {
     "name": "stdout",
     "output_type": "stream",
     "text": [
      "Cross-validated scores: [0.675 0.629 0.633 0.685 0.656]\n",
      "Average CV score: 0.656\n",
      "Recall score: 0.62\n"
     ]
    },
    {
     "data": {
      "text/plain": [
       "Text(0.5, 1.0, 'Decision tree confusion matrix')"
      ]
     },
     "execution_count": 20,
     "metadata": {},
     "output_type": "execute_result"
    },
    {
     "data": {
      "image/png": "[encoded data removed]",
      "text/plain": [
       "<Figure size 432x288 with 2 Axes>"
      ]
     },
     "metadata": {
      "needs_background": "light"
     },
     "output_type": "display_data"
    }
   ],
   "source": [
    "dt_model = DecisionTreeClassifier(max_depth=5)\n",
    "dt_pipe = text_classification(dt_model)\n",
    "plt.title('Decision tree confusion matrix')"
   ]
  },
  {
   "cell_type": "markdown",
   "metadata": {},
   "source": [
    "Building on the decision tree model, we can also try a [random forest](https://scikit-learn.org/stable/modules/generated/sklearn.ensemble.RandomForestClassifier.html) classifier, which is an ensemble method derived from decision trees. Unlike the decision tree classifier, which creates a tree from the whole dataset, the random forest method takes subsets of the training set to create individual trees and averages all the trees to produce the most optimal predictive ability. \n",
    "\n",
    "Using the random forest classifier produced a model that did significantly better than the initial decision tree model, However, the performance of this model still falls short compared to our logistic regression model."
   ]
  },
  {
   "cell_type": "code",
   "execution_count": 21,
   "metadata": {},
   "outputs": [
    {
     "name": "stdout",
     "output_type": "stream",
     "text": [
      "Cross-validated scores: [0.79  0.802 0.796 0.848 0.814]\n",
      "Average CV score: 0.81\n",
      "Recall score: 0.818\n"
     ]
    },
    {
     "data": {
      "text/plain": [
       "Text(0.5, 1.0, 'Random forest confusion matrix')"
      ]
     },
     "execution_count": 21,
     "metadata": {},
     "output_type": "execute_result"
    },
    {
     "data": {
      "image/png": "[encoded data removed]",
      "text/plain": [
       "<Figure size 432x288 with 2 Axes>"
      ]
     },
     "metadata": {
      "needs_background": "light"
     },
     "output_type": "display_data"
    }
   ],
   "source": [
    "rf_model = RandomForestClassifier()\n",
    "rf_pipe = text_classification(rf_model)\n",
    "plt.title('Random forest confusion matrix')"
   ]
  },
  {
   "cell_type": "markdown",
   "metadata": {},
   "source": [
    "### Optimization"
   ]
  },
  {
   "cell_type": "markdown",
   "metadata": {},
   "source": [
    "Since we have obtained our best model in our logistic regression model, we can then run a grid search to find the optimal parameters for this model. In addition, I will also be performing a grid search on the random forest model; even though it is outperformed by logistic regression, I am interested in seeing if it can surpass the logistic regression model with optimized parameters.\n",
    "\n",
    "To create the parameter grids to run the grid search on both models, I obtain the names of the parameters in each model and the values at which each parameter was at when the model was ran:"
   ]
  },
  {
   "cell_type": "code",
   "execution_count": 22,
   "metadata": {
    "scrolled": true
   },
   "outputs": [
    {
     "data": {
      "text/plain": [
       "{'memory': None,\n",
       " 'steps': [('tfidfvectorizer', TfidfVectorizer()),\n",
       "  ('smote', SMOTE(sampling_strategy='not majority')),\n",
       "  ('logisticregression', LogisticRegression(multi_class='multinomial'))],\n",
       " 'verbose': False,\n",
       " 'tfidfvectorizer': TfidfVectorizer(),\n",
       " 'smote': SMOTE(sampling_strategy='not majority'),\n",
       " 'logisticregression': LogisticRegression(multi_class='multinomial'),\n",
       " 'tfidfvectorizer__analyzer': 'word',\n",
       " 'tfidfvectorizer__binary': False,\n",
       " 'tfidfvectorizer__decode_error': 'strict',\n",
       " 'tfidfvectorizer__dtype': numpy.float64,\n",
       " 'tfidfvectorizer__encoding': 'utf-8',\n",
       " 'tfidfvectorizer__input': 'content',\n",
       " 'tfidfvectorizer__lowercase': True,\n",
       " 'tfidfvectorizer__max_df': 1.0,\n",
       " 'tfidfvectorizer__max_features': None,\n",
       " 'tfidfvectorizer__min_df': 1,\n",
       " 'tfidfvectorizer__ngram_range': (1, 1),\n",
       " 'tfidfvectorizer__norm': 'l2',\n",
       " 'tfidfvectorizer__preprocessor': None,\n",
       " 'tfidfvectorizer__smooth_idf': True,\n",
       " 'tfidfvectorizer__stop_words': None,\n",
       " 'tfidfvectorizer__strip_accents': None,\n",
       " 'tfidfvectorizer__sublinear_tf': False,\n",
       " 'tfidfvectorizer__token_pattern': '(?u)\\\\b\\\\w\\\\w+\\\\b',\n",
       " 'tfidfvectorizer__tokenizer': None,\n",
       " 'tfidfvectorizer__use_idf': True,\n",
       " 'tfidfvectorizer__vocabulary': None,\n",
       " 'smote__k_neighbors': 5,\n",
       " 'smote__n_jobs': None,\n",
       " 'smote__random_state': None,\n",
       " 'smote__sampling_strategy': 'not majority',\n",
       " 'logisticregression__C': 1.0,\n",
       " 'logisticregression__class_weight': None,\n",
       " 'logisticregression__dual': False,\n",
       " 'logisticregression__fit_intercept': True,\n",
       " 'logisticregression__intercept_scaling': 1,\n",
       " 'logisticregression__l1_ratio': None,\n",
       " 'logisticregression__max_iter': 100,\n",
       " 'logisticregression__multi_class': 'multinomial',\n",
       " 'logisticregression__n_jobs': None,\n",
       " 'logisticregression__penalty': 'l2',\n",
       " 'logisticregression__random_state': None,\n",
       " 'logisticregression__solver': 'lbfgs',\n",
       " 'logisticregression__tol': 0.0001,\n",
       " 'logisticregression__verbose': 0,\n",
       " 'logisticregression__warm_start': False}"
      ]
     },
     "execution_count": 22,
     "metadata": {},
     "output_type": "execute_result"
    }
   ],
   "source": [
    "logreg_pipe.get_params()"
   ]
  },
  {
   "cell_type": "code",
   "execution_count": 23,
   "metadata": {
    "scrolled": true
   },
   "outputs": [
    {
     "data": {
      "text/plain": [
       "{'memory': None,\n",
       " 'steps': [('tfidfvectorizer', TfidfVectorizer()),\n",
       "  ('smote', SMOTE(sampling_strategy='not majority')),\n",
       "  ('randomforestclassifier', RandomForestClassifier())],\n",
       " 'verbose': False,\n",
       " 'tfidfvectorizer': TfidfVectorizer(),\n",
       " 'smote': SMOTE(sampling_strategy='not majority'),\n",
       " 'randomforestclassifier': RandomForestClassifier(),\n",
       " 'tfidfvectorizer__analyzer': 'word',\n",
       " 'tfidfvectorizer__binary': False,\n",
       " 'tfidfvectorizer__decode_error': 'strict',\n",
       " 'tfidfvectorizer__dtype': numpy.float64,\n",
       " 'tfidfvectorizer__encoding': 'utf-8',\n",
       " 'tfidfvectorizer__input': 'content',\n",
       " 'tfidfvectorizer__lowercase': True,\n",
       " 'tfidfvectorizer__max_df': 1.0,\n",
       " 'tfidfvectorizer__max_features': None,\n",
       " 'tfidfvectorizer__min_df': 1,\n",
       " 'tfidfvectorizer__ngram_range': (1, 1),\n",
       " 'tfidfvectorizer__norm': 'l2',\n",
       " 'tfidfvectorizer__preprocessor': None,\n",
       " 'tfidfvectorizer__smooth_idf': True,\n",
       " 'tfidfvectorizer__stop_words': None,\n",
       " 'tfidfvectorizer__strip_accents': None,\n",
       " 'tfidfvectorizer__sublinear_tf': False,\n",
       " 'tfidfvectorizer__token_pattern': '(?u)\\\\b\\\\w\\\\w+\\\\b',\n",
       " 'tfidfvectorizer__tokenizer': None,\n",
       " 'tfidfvectorizer__use_idf': True,\n",
       " 'tfidfvectorizer__vocabulary': None,\n",
       " 'smote__k_neighbors': 5,\n",
       " 'smote__n_jobs': None,\n",
       " 'smote__random_state': None,\n",
       " 'smote__sampling_strategy': 'not majority',\n",
       " 'randomforestclassifier__bootstrap': True,\n",
       " 'randomforestclassifier__ccp_alpha': 0.0,\n",
       " 'randomforestclassifier__class_weight': None,\n",
       " 'randomforestclassifier__criterion': 'gini',\n",
       " 'randomforestclassifier__max_depth': None,\n",
       " 'randomforestclassifier__max_features': 'auto',\n",
       " 'randomforestclassifier__max_leaf_nodes': None,\n",
       " 'randomforestclassifier__max_samples': None,\n",
       " 'randomforestclassifier__min_impurity_decrease': 0.0,\n",
       " 'randomforestclassifier__min_impurity_split': None,\n",
       " 'randomforestclassifier__min_samples_leaf': 1,\n",
       " 'randomforestclassifier__min_samples_split': 2,\n",
       " 'randomforestclassifier__min_weight_fraction_leaf': 0.0,\n",
       " 'randomforestclassifier__n_estimators': 100,\n",
       " 'randomforestclassifier__n_jobs': None,\n",
       " 'randomforestclassifier__oob_score': False,\n",
       " 'randomforestclassifier__random_state': None,\n",
       " 'randomforestclassifier__verbose': 0,\n",
       " 'randomforestclassifier__warm_start': False}"
      ]
     },
     "execution_count": 23,
     "metadata": {},
     "output_type": "execute_result"
    }
   ],
   "source": [
    "rf_pipe.get_params()"
   ]
  },
  {
   "cell_type": "markdown",
   "metadata": {},
   "source": [
    "Using this information, I create the parameter grids and the values I wish to test during the grid search:"
   ]
  },
  {
   "cell_type": "code",
   "execution_count": 24,
   "metadata": {},
   "outputs": [],
   "source": [
    "logreg_param_grid = {\n",
    "    'logisticregression__penalty': ['none', 'l2', 'l1', 'elasticnet'],\n",
    "    'logisticregression__C': [0.2, 0.5, 1.0, 1.5]\n",
    "}\n",
    "\n",
    "rf_param_grid = {\n",
    "    'randomforestclassifier__n_estimators': [10, 50, 100],\n",
    "    'randomforestclassifier__criterion': ['gini', 'entropy']\n",
    "}"
   ]
  },
  {
   "cell_type": "markdown",
   "metadata": {},
   "source": [
    "We then run [GridSearchCV](https://scikit-learn.org/stable/modules/generated/sklearn.model_selection.GridSearchCV.html) on our pipeline models against the parameter grids we defined."
   ]
  },
  {
   "cell_type": "code",
   "execution_count": 25,
   "metadata": {},
   "outputs": [
    {
     "data": {
      "text/plain": [
       "GridSearchCV(estimator=Pipeline(steps=[('tfidfvectorizer', TfidfVectorizer()),\n",
       "                                       ('smote',\n",
       "                                        SMOTE(sampling_strategy='not '\n",
       "                                                                'majority')),\n",
       "                                       ('logisticregression',\n",
       "                                        LogisticRegression(multi_class='multinomial'))]),\n",
       "             param_grid={'logisticregression__C': [0.2, 0.5, 1.0, 1.5],\n",
       "                         'logisticregression__penalty': ['none', 'l2', 'l1',\n",
       "                                                         'elasticnet']},\n",
       "             scoring='recall_micro')"
      ]
     },
     "execution_count": 25,
     "metadata": {},
     "output_type": "execute_result"
    }
   ],
   "source": [
    "logreg_gridsearch = GridSearchCV(estimator=logreg_pipe,\n",
    "                                param_grid=logreg_param_grid,\n",
    "                                scoring='recall_micro')\n",
    "logreg_gridsearch.fit(X_train, y_train)"
   ]
  },
  {
   "cell_type": "markdown",
   "metadata": {},
   "source": [
    " Optimizing the logistic regression model helped it perform slightly better; it has a higher recall score and as we can see from the confusion matrix, it was able to predict more true negatives than our initial model."
   ]
  },
  {
   "cell_type": "code",
   "execution_count": 26,
   "metadata": {},
   "outputs": [
    {
     "name": "stdout",
     "output_type": "stream",
     "text": [
      "Best recall score: 0.846\n",
      "Optimal parameters: {'logisticregression__C': 1.0, 'logisticregression__penalty': 'none'}\n"
     ]
    },
    {
     "data": {
      "text/plain": [
       "Text(0.5, 1.0, 'Logistic regression confusion matrix, optimized')"
      ]
     },
     "execution_count": 26,
     "metadata": {},
     "output_type": "execute_result"
    },
    {
     "data": {
      "image/png": "[encoded data removed]",
      "text/plain": [
       "<Figure size 432x288 with 2 Axes>"
      ]
     },
     "metadata": {
      "needs_background": "light"
     },
     "output_type": "display_data"
    }
   ],
   "source": [
    "print(\"Best recall score:\", logreg_gridsearch.best_score_.round(3))\n",
    "print(\"Optimal parameters:\", logreg_gridsearch.best_params_)\n",
    "plot_confusion_matrix(logreg_gridsearch, X_test, y_test, normalize='true')\n",
    "plt.title('Logistic regression confusion matrix, optimized')"
   ]
  },
  {
   "cell_type": "markdown",
   "metadata": {},
   "source": [
    "Surprisingly, running the random forest grid search returns a very similar, if not worse result than the original random forest model -- and therefore is also worse than our logistic regression model -- with the default parameters."
   ]
  },
  {
   "cell_type": "code",
   "execution_count": 27,
   "metadata": {},
   "outputs": [
    {
     "data": {
      "text/plain": [
       "GridSearchCV(estimator=Pipeline(steps=[('tfidfvectorizer', TfidfVectorizer()),\n",
       "                                       ('smote',\n",
       "                                        SMOTE(sampling_strategy='not '\n",
       "                                                                'majority')),\n",
       "                                       ('randomforestclassifier',\n",
       "                                        RandomForestClassifier())]),\n",
       "             param_grid={'randomforestclassifier__criterion': ['gini',\n",
       "                                                               'entropy'],\n",
       "                         'randomforestclassifier__n_estimators': [10, 50, 100]},\n",
       "             scoring='recall_micro')"
      ]
     },
     "execution_count": 27,
     "metadata": {},
     "output_type": "execute_result"
    }
   ],
   "source": [
    "rf_gridsearch = GridSearchCV(estimator=rf_pipe, \n",
    "                             param_grid=rf_param_grid, \n",
    "                             scoring='recall_micro')\n",
    "rf_gridsearch.fit(X_train, y_train)"
   ]
  },
  {
   "cell_type": "code",
   "execution_count": 28,
   "metadata": {},
   "outputs": [
    {
     "name": "stdout",
     "output_type": "stream",
     "text": [
      "Best recall score: 0.811\n",
      "Optimal parameters: {'randomforestclassifier__criterion': 'entropy', 'randomforestclassifier__n_estimators': 50}\n"
     ]
    },
    {
     "data": {
      "text/plain": [
       "Text(0.5, 1.0, 'Random forest confusion matrix, optimized')"
      ]
     },
     "execution_count": 28,
     "metadata": {},
     "output_type": "execute_result"
    },
    {
     "data": {
      "image/png": "[encoded data removed]",
      "text/plain": [
       "<Figure size 432x288 with 2 Axes>"
      ]
     },
     "metadata": {
      "needs_background": "light"
     },
     "output_type": "display_data"
    }
   ],
   "source": [
    "print(\"Best recall score:\", rf_gridsearch.best_score_.round(3))\n",
    "print(\"Optimal parameters:\", rf_gridsearch.best_params_)\n",
    "plot_confusion_matrix(rf_gridsearch, X_test, y_test)\n",
    "plt.title('Random forest confusion matrix, optimized')"
   ]
  },
  {
   "cell_type": "markdown",
   "metadata": {},
   "source": [
    "## Application"
   ]
  },
  {
   "cell_type": "markdown",
   "metadata": {},
   "source": [
    "Now that we have our best model with optimized parameters, we can implement it into an application using Flask. If we wanted to intake newer reviews, we would have an application that would be able to rate the sentiment of a review for us without requiring a supplementary letter or number grade (for people who may be indecisive).\n",
    "\n",
    "In preparation for exporting our model into an application, I create a new function, `text_processing`, that condenses all the steps we took to preprocess and clean our text data from earlier in this notebook. In addition to our best model, we will also need to implement this kind of function within our application so that it can perform all of these necessary steps on raw text before the model can take input in as data."
   ]
  },
  {
   "cell_type": "code",
   "execution_count": 29,
   "metadata": {},
   "outputs": [],
   "source": [
    "def text_processing(user_input):\n",
    "    pattern = \"([a-zA-Z]+(?:'[a-z]+)?)\"\n",
    "    review_text = regexp_tokenize(user_input, pattern)\n",
    "    review_text = ' '.join(review_text)\n",
    "    review_text = review_text.lower()\n",
    "\n",
    "    stopwords_list = stopwords.words('english')\n",
    "    stopwords_list += list(string.punctuation)\n",
    "    stopwords_list += ['game', 'animal', 'crossing', 'new', 'horizons', 'horizon']\n",
    "    stopwords_list += list(string.ascii_lowercase)\n",
    "    review_text = [w for w in review_text.split() if w not in stopwords_list]\n",
    "    \n",
    "    lemmatizer = WordNetLemmatizer()\n",
    "    review_text = [lemmatizer.lemmatize(w) for w in review_text]\n",
    "    review_text = ' '.join(review_text)\n",
    "        \n",
    "    return review_text"
   ]
  },
  {
   "cell_type": "markdown",
   "metadata": {},
   "source": [
    "I then recreate the pipeline with our best model and utilize the optimized parameters found in the grid search performed earlier:"
   ]
  },
  {
   "cell_type": "code",
   "execution_count": 30,
   "metadata": {},
   "outputs": [
    {
     "data": {
      "text/plain": [
       "Pipeline(steps=[('tfidfvectorizer', TfidfVectorizer()),\n",
       "                ('smote', SMOTE(sampling_strategy='not majority')),\n",
       "                ('logisticregression',\n",
       "                 LogisticRegression(C=0.2, penalty='none'))])"
      ]
     },
     "execution_count": 30,
     "metadata": {},
     "output_type": "execute_result"
    }
   ],
   "source": [
    "model_X = user_df['text']\n",
    "y = user_df['sentiment']\n",
    "\n",
    "model_X  = model_X.apply(text_processing)\n",
    "\n",
    "model = LogisticRegression(C=0.2, penalty='none')\n",
    "\n",
    "tfidf_vectorizer = TfidfVectorizer()\n",
    "smote = SMOTE(sampling_strategy='not majority')\n",
    "    \n",
    "pipeline = make_pipeline(tfidf_vectorizer, smote, model)\n",
    "    \n",
    "pipeline.fit(model_X, y)"
   ]
  },
  {
   "cell_type": "markdown",
   "metadata": {},
   "source": [
    "I use the [Pickle](https://docs.python.org/3/library/pickle.html) module to then serialize the pipeline that was used to fit our optimized model and save it into a `.pkl` file."
   ]
  },
  {
   "cell_type": "code",
   "execution_count": 31,
   "metadata": {
    "scrolled": true
   },
   "outputs": [],
   "source": [
    "file = open('backend/acnh_review_model.pkl', 'wb')\n",
    "pickle.dump(pipeline, file)\n",
    "file.close()"
   ]
  },
  {
   "cell_type": "markdown",
   "metadata": {},
   "source": [
    "In order to test the functionality of the pickled model before we implement it into our application, I reopen the file into the notebook and run test inputs on the model:"
   ]
  },
  {
   "cell_type": "code",
   "execution_count": 32,
   "metadata": {},
   "outputs": [
    {
     "data": {
      "text/plain": [
       "array(['negative', 'neutral', 'negative', ..., 'negative', 'negative',\n",
       "       'negative'], dtype=object)"
      ]
     },
     "execution_count": 32,
     "metadata": {},
     "output_type": "execute_result"
    }
   ],
   "source": [
    "file = open('backend/acnh_review_model.pkl', 'rb')\n",
    "loaded_model = pickle.load(file)\n",
    "\n",
    "loaded_model.predict(X)"
   ]
  },
  {
   "cell_type": "code",
   "execution_count": 33,
   "metadata": {},
   "outputs": [
    {
     "name": "stdout",
     "output_type": "stream",
     "text": [
      "Input: I love this game so much!\n",
      "Prediction: ['positive']\n"
     ]
    }
   ],
   "source": [
    "# Test input #1: positive review\n",
    "user_input = \"I love this game so much!\"\n",
    "print('Input:', user_input)\n",
    "\n",
    "cleaned_text = text_processing(user_input)\n",
    "prediction = loaded_model.predict([cleaned_text])\n",
    "print('Prediction:', prediction)"
   ]
  },
  {
   "cell_type": "code",
   "execution_count": 34,
   "metadata": {},
   "outputs": [
    {
     "name": "stdout",
     "output_type": "stream",
     "text": [
      "Input: This game was terrible lol New Leaf was better\n",
      "Prediction: ['negative']\n"
     ]
    }
   ],
   "source": [
    "# Test input #2: negative review\n",
    "user_input = \"This game was terrible lol New Leaf was better\"\n",
    "print('Input:', user_input)\n",
    "\n",
    "cleaned_text = text_processing(user_input)\n",
    "prediction = loaded_model.predict([cleaned_text])\n",
    "print('Prediction:', prediction)"
   ]
  },
  {
   "cell_type": "markdown",
   "metadata": {},
   "source": [
    "It looks like both test inputs were predicted accurately, so this model is ready to be implemented into an external application! I use [Flask](https://flask.palletsprojects.com/en/2.0.x/) to create a web application for our model and deploy it using Heroku to make it an accessible webpage to all users. The application can be found here: [Animal Crossing: New Horizons Sentiment Rater](https://acnh-sentiment-rater.herokuapp.com/)."
   ]
  },
  {
   "cell_type": "markdown",
   "metadata": {},
   "source": [
    "## Conclusion"
   ]
  },
  {
   "cell_type": "markdown",
   "metadata": {},
   "source": [
    "We were able to obtain a machine learning model that was able to accurately predict sentiment labels of our review data; it was able to predict these labels with an ~82% recall score, which increased to ~84% with optimized parameters. With this model, we were also able to create an application with which we can rate new user-submitted reviews. This way, we can track the overall player sentiment surrounding Animal Crossing: New Horizons after the date range in our data and keeping it current during this game's update lifespan."
   ]
  },
  {
   "cell_type": "markdown",
   "metadata": {},
   "source": [
    "### Next Steps"
   ]
  },
  {
   "cell_type": "markdown",
   "metadata": {},
   "source": [
    "Given more time, the next steps I would like to take with this project primarily lie within updating the application with additional features. These are some of the ideas I had in mind:\n",
    "- Implementing a database within the application that can archive reviews and their sentiment rating. This would help immensely with keeping track of overall sentiment and individual reviews.\n",
    "- Enabling users to see statistics on the front end after submitting a review, such as how many other users agreed with them among other app users and users who submitted reviews on other websites like Metacritic.\n",
    "- Expanding the application to contain a database of Switch games that includes details about each game such as trailers, reviews from other sites, etc., allowing for a wider application among more Switch games.\n",
    "- Implementing a recommender system where users can be recommended games based on whether they liked the game they submit a review for (i.e. if a user gave a negative review for New Horizons they would receive recommendations based on what was popular among other people who also gave negative reviews). The recommender system would also allow for users to be recommended games based on genre.\n",
    "- Multilingual support. At the moment, the app can only accurately predict the sentiment of English reviews, but as there were also reviews in different languages in our initial dataset (that were already labeled), I would like for my app to be able to take in reviews from a wider variety of consumers who may not speak English."
   ]
  },
  {
   "cell_type": "code",
   "execution_count": null,
   "metadata": {},
   "outputs": [],
   "source": []
  }
 ],
 "metadata": {
  "kernelspec": {
   "display_name": "Python 3",
   "language": "python",
   "name": "python3"
  },
  "language_info": {
   "codemirror_mode": {
    "name": "ipython",
    "version": 3
   },
   "file_extension": ".py",
   "mimetype": "text/x-python",
   "name": "python",
   "nbconvert_exporter": "python",
   "pygments_lexer": "ipython3",
   "version": "3.8.5"
  }
 },
 "nbformat": 4,
 "nbformat_minor": 4
}
